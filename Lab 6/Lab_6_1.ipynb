{
  "nbformat": 4,
  "nbformat_minor": 2,
  "metadata": {
    "colab": {
      "name": "Lab_6_1.ipynb",
      "provenance": [],
      "collapsed_sections": []
    },
    "kernelspec": {
      "name": "python3",
      "display_name": "Python 3"
    },
    "language_info": {
      "name": "python"
    }
  },
  "cells": [
    {
      "cell_type": "code",
      "execution_count": 2,
      "source": [
        "from google.colab import drive\r\n",
        "drive.mount('/content/drive')"
      ],
      "outputs": [
        {
          "output_type": "stream",
          "name": "stdout",
          "text": [
            "Mounted at /content/drive\n"
          ]
        }
      ],
      "metadata": {
        "colab": {
          "base_uri": "https://localhost:8080/"
        },
        "id": "rfdHJUdYLaJ3",
        "outputId": "a04e0e0b-7e07-4e95-954c-ccece15a6bba"
      }
    },
    {
      "cell_type": "code",
      "execution_count": 1,
      "source": [
        "#Importing libraries\r\n",
        "import numpy as np \r\n",
        "import pandas as pd \r\n",
        "import io\r\n",
        "import matplotlib.pyplot as plt"
      ],
      "outputs": [],
      "metadata": {
        "id": "i6bjRTj7uPgN"
      }
    },
    {
      "cell_type": "code",
      "execution_count": 6,
      "source": [
        "# reading the csv file, Dropping UserID Column, Printing the head\r\n",
        "data = pd.read_csv('/content/drive/My Drive/BuyComputer.csv')\r\n",
        "\r\n",
        "data.drop(columns=['User ID',],axis=1,inplace=True)\r\n",
        "data.head()"
      ],
      "outputs": [
        {
          "output_type": "execute_result",
          "data": {
            "text/html": [
              "<div>\n",
              "<style scoped>\n",
              "    .dataframe tbody tr th:only-of-type {\n",
              "        vertical-align: middle;\n",
              "    }\n",
              "\n",
              "    .dataframe tbody tr th {\n",
              "        vertical-align: top;\n",
              "    }\n",
              "\n",
              "    .dataframe thead th {\n",
              "        text-align: right;\n",
              "    }\n",
              "</style>\n",
              "<table border=\"1\" class=\"dataframe\">\n",
              "  <thead>\n",
              "    <tr style=\"text-align: right;\">\n",
              "      <th></th>\n",
              "      <th>Age</th>\n",
              "      <th>EstimatedSalary</th>\n",
              "      <th>Purchased</th>\n",
              "    </tr>\n",
              "  </thead>\n",
              "  <tbody>\n",
              "    <tr>\n",
              "      <th>0</th>\n",
              "      <td>19</td>\n",
              "      <td>19000</td>\n",
              "      <td>0</td>\n",
              "    </tr>\n",
              "    <tr>\n",
              "      <th>1</th>\n",
              "      <td>35</td>\n",
              "      <td>20000</td>\n",
              "      <td>0</td>\n",
              "    </tr>\n",
              "    <tr>\n",
              "      <th>2</th>\n",
              "      <td>26</td>\n",
              "      <td>43000</td>\n",
              "      <td>0</td>\n",
              "    </tr>\n",
              "    <tr>\n",
              "      <th>3</th>\n",
              "      <td>27</td>\n",
              "      <td>57000</td>\n",
              "      <td>0</td>\n",
              "    </tr>\n",
              "    <tr>\n",
              "      <th>4</th>\n",
              "      <td>19</td>\n",
              "      <td>76000</td>\n",
              "      <td>0</td>\n",
              "    </tr>\n",
              "  </tbody>\n",
              "</table>\n",
              "</div>"
            ],
            "text/plain": [
              "   Age  EstimatedSalary  Purchased\n",
              "0   19            19000          0\n",
              "1   35            20000          0\n",
              "2   26            43000          0\n",
              "3   27            57000          0\n",
              "4   19            76000          0"
            ]
          },
          "metadata": {},
          "execution_count": 6
        }
      ],
      "metadata": {
        "colab": {
          "base_uri": "https://localhost:8080/",
          "height": 203
        },
        "id": "LeN-MYgiLDrG",
        "outputId": "77198048-01bf-4db6-a84b-f3c90db4b61b"
      }
    },
    {
      "cell_type": "code",
      "execution_count": 7,
      "source": [
        "#Declare label as last column in the source file\r\n",
        "\r\n",
        "label=data['Purchased']\r\n",
        "label"
      ],
      "outputs": [
        {
          "output_type": "execute_result",
          "data": {
            "text/plain": [
              "0      0\n",
              "1      0\n",
              "2      0\n",
              "3      0\n",
              "4      0\n",
              "      ..\n",
              "395    1\n",
              "396    1\n",
              "397    1\n",
              "398    0\n",
              "399    1\n",
              "Name: Purchased, Length: 400, dtype: int64"
            ]
          },
          "metadata": {},
          "execution_count": 7
        }
      ],
      "metadata": {
        "colab": {
          "base_uri": "https://localhost:8080/"
        },
        "id": "24Iycz7AMPG4",
        "outputId": "108f7b21-e33b-4fd3-eb80-02b0c1979399"
      }
    },
    {
      "cell_type": "code",
      "execution_count": 23,
      "source": [
        "#Declare label as last column in the source file\r\n",
        "Y = data.iloc[:,-1].values"
      ],
      "outputs": [],
      "metadata": {
        "id": "jH0u8YU5RS5H"
      }
    },
    {
      "cell_type": "code",
      "execution_count": 24,
      "source": [
        "#Declaring X as all columns excluding last\r\n",
        "X = data.iloc[:,:-1].values"
      ],
      "outputs": [],
      "metadata": {
        "id": "QEDK2-MkRU2x"
      }
    },
    {
      "cell_type": "code",
      "execution_count": 26,
      "source": [
        "# Splitting data\r\n",
        "from sklearn.model_selection import train_test_split\r\n",
        "X_train, X_test, y_train, y_test = train_test_split(X, Y, test_size=0.3, random_state=99)"
      ],
      "outputs": [],
      "metadata": {
        "id": "ISlMoYK5MVyK"
      }
    },
    {
      "cell_type": "code",
      "execution_count": 27,
      "source": [
        "# Scaling data\r\n",
        "from sklearn.preprocessing import StandardScaler\r\n",
        "sc = StandardScaler()\r\n",
        "X_train = sc.fit_transform(X_train)\r\n",
        "X_test = sc.transform(X_test)\r\n",
        "\r\n",
        "#Variabes to calculate sigmoid function\r\n",
        "y_pred = []\r\n",
        "len_x = len(X_train[0])\r\n",
        "w = []\r\n",
        "b = 0.2\r\n",
        "print(len_x)"
      ],
      "outputs": [
        {
          "output_type": "stream",
          "name": "stdout",
          "text": [
            "2\n"
          ]
        }
      ],
      "metadata": {
        "colab": {
          "base_uri": "https://localhost:8080/"
        },
        "id": "dWcMdrI0MWr5",
        "outputId": "a0d85537-f9a8-4209-e123-f71ed96724b4"
      }
    },
    {
      "cell_type": "code",
      "execution_count": 28,
      "source": [
        "entries = len(X_train[:,0])\r\n",
        "entries"
      ],
      "outputs": [
        {
          "output_type": "execute_result",
          "data": {
            "text/plain": [
              "280"
            ]
          },
          "metadata": {},
          "execution_count": 28
        }
      ],
      "metadata": {
        "colab": {
          "base_uri": "https://localhost:8080/"
        },
        "id": "8GoLqIc3MaR7",
        "outputId": "2cbc552e-2c98-43b5-a06a-03ce2901abd2"
      }
    },
    {
      "cell_type": "code",
      "execution_count": 29,
      "source": [
        "for weights in range(len_x):\r\n",
        "    w.append(0)\r\n",
        "w"
      ],
      "outputs": [
        {
          "output_type": "execute_result",
          "data": {
            "text/plain": [
              "[0, 0]"
            ]
          },
          "metadata": {},
          "execution_count": 29
        }
      ],
      "metadata": {
        "colab": {
          "base_uri": "https://localhost:8080/"
        },
        "id": "FM758TMcMdbl",
        "outputId": "b0050a31-5e14-44bc-c834-df0944a5a094"
      }
    },
    {
      "cell_type": "code",
      "execution_count": 30,
      "source": [
        "# Sigmoid function\n",
        "def sigmoid(z):\n",
        "  return 1/(1+np.exp(-z))\n",
        "\n",
        "def predict(inputs):\n",
        "    res = sigmoid(np.dot(w,inputs)+b)\n",
        "    return res"
      ],
      "outputs": [],
      "metadata": {
        "id": "PmsxmDbnMgEc"
      }
    },
    {
      "cell_type": "code",
      "execution_count": 31,
      "source": [
        "#Loss function\n",
        "def loss_func(y,a):\n",
        "    J = -(y*np.log(a) + (1-y)*np.log(1-a))\n",
        "    return J"
      ],
      "outputs": [],
      "metadata": {
        "id": "h5m9z5_bMi6T"
      }
    },
    {
      "cell_type": "code",
      "execution_count": 15,
      "source": [
        "dw = []\n",
        "db = 0\n",
        "J = 0\n",
        "alpha = 0.1\n",
        "for x in range(len_x):\n",
        "    dw.append(0)"
      ],
      "outputs": [],
      "metadata": {
        "id": "fiTkQyqmMmN9"
      }
    },
    {
      "cell_type": "code",
      "execution_count": 32,
      "source": [
        "#Repeating the process 3000 times\n",
        "for iterations in range(3000):\n",
        "    for i in range(entries):\n",
        "        tmp = X_train[i]\n",
        "        a = predict(tmp)   \n",
        "        dz = a - y_train[i]\n",
        "        J += loss_func(y_train[i],a)\n",
        "        for j in range(len_x):\n",
        "            dw[j] = dw[j]+(tmp[j]*dz)\n",
        "        db += dz\n",
        "    J = J/entries\n",
        "    db = db/entries\n",
        "    for x in range(len_x):\n",
        "        dw[x]=dw[x]/entries\n",
        "    for x in range(len_x):\n",
        "        w[x] = w[x]-(alpha*dw[x])\n",
        "    b = b-(alpha*db)         \n",
        "    J=0"
      ],
      "outputs": [],
      "metadata": {
        "id": "0QQEaTc8MpV6"
      }
    },
    {
      "cell_type": "code",
      "execution_count": 33,
      "source": [
        "#Print weight\n",
        "w"
      ],
      "outputs": [
        {
          "output_type": "execute_result",
          "data": {
            "text/plain": [
              "[2.8362410300849255, 1.665493289728192]"
            ]
          },
          "metadata": {},
          "execution_count": 33
        }
      ],
      "metadata": {
        "colab": {
          "base_uri": "https://localhost:8080/"
        },
        "id": "rLq1j4PHMyL2",
        "outputId": "69e50d9e-a3cf-4e86-8e86-d96eaa8791fb"
      }
    },
    {
      "cell_type": "code",
      "execution_count": 34,
      "source": [
        "#print bias\n",
        "b"
      ],
      "outputs": [
        {
          "output_type": "execute_result",
          "data": {
            "text/plain": [
              "-1.14908516170707"
            ]
          },
          "metadata": {},
          "execution_count": 34
        }
      ],
      "metadata": {
        "colab": {
          "base_uri": "https://localhost:8080/"
        },
        "id": "LYe1kZb4Mx9v",
        "outputId": "06698440-f58d-4470-a944-ef9d92e1b957"
      }
    },
    {
      "cell_type": "code",
      "execution_count": 35,
      "source": [
        "#predicting the label\n",
        "for x in range(len(y_test)):\n",
        "    y_pred.append(predict(X_test[x]))"
      ],
      "outputs": [],
      "metadata": {
        "id": "VlhCDGIHM31J"
      }
    },
    {
      "cell_type": "code",
      "execution_count": 36,
      "source": [
        "#print actual and predicted values in a table\r\n",
        "for x in range(len(y_pred)):\r\n",
        "    print('Actual ',y_test[x],' Predicted ',y_pred[x])\r\n",
        "    if y_pred[x]>=0.5:\r\n",
        "        y_pred[x]=1\r\n",
        "    else:\r\n",
        "        y_pred[x]=0"
      ],
      "outputs": [
        {
          "output_type": "stream",
          "name": "stdout",
          "text": [
            "Actual  0  Predicted  0.014172459558844983\n",
            "Actual  0  Predicted  0.14506651604913198\n",
            "Actual  0  Predicted  0.4361373571242604\n",
            "Actual  0  Predicted  0.0006929157820911447\n",
            "Actual  0  Predicted  0.010355155729663107\n",
            "Actual  1  Predicted  0.4292451264261773\n",
            "Actual  0  Predicted  0.06143820890886016\n",
            "Actual  1  Predicted  0.2166629493187344\n",
            "Actual  0  Predicted  0.11722530708224639\n",
            "Actual  0  Predicted  0.0020287672216342425\n",
            "Actual  0  Predicted  0.0009750481321610965\n",
            "Actual  0  Predicted  0.9172451838723173\n",
            "Actual  0  Predicted  0.005131532758472771\n",
            "Actual  0  Predicted  0.0033908520668869914\n",
            "Actual  0  Predicted  0.004120670477362154\n",
            "Actual  1  Predicted  0.9655146744009645\n",
            "Actual  1  Predicted  0.26049052536516537\n",
            "Actual  0  Predicted  0.011419877704057453\n",
            "Actual  1  Predicted  0.31098996303275744\n",
            "Actual  0  Predicted  0.24696842324569898\n",
            "Actual  0  Predicted  0.0037277033105684114\n",
            "Actual  1  Predicted  0.47139172870091706\n",
            "Actual  0  Predicted  0.0038249497827706172\n",
            "Actual  0  Predicted  0.5146457467624045\n",
            "Actual  1  Predicted  0.919269065874392\n",
            "Actual  0  Predicted  0.0021847089371419322\n",
            "Actual  0  Predicted  0.03191431884094049\n",
            "Actual  1  Predicted  0.6505417676010355\n",
            "Actual  1  Predicted  0.2847847033112839\n",
            "Actual  0  Predicted  0.24239683451379437\n",
            "Actual  1  Predicted  0.49074948730464685\n",
            "Actual  0  Predicted  0.004314380214944523\n",
            "Actual  0  Predicted  0.6336175488111754\n",
            "Actual  1  Predicted  0.568755698409508\n",
            "Actual  0  Predicted  0.4416806049875176\n",
            "Actual  1  Predicted  0.7478100539387552\n",
            "Actual  0  Predicted  0.33208379708282204\n",
            "Actual  0  Predicted  0.0010494966717510346\n",
            "Actual  0  Predicted  0.47194683731672504\n",
            "Actual  0  Predicted  0.03344273696113979\n",
            "Actual  0  Predicted  0.13629952724757552\n",
            "Actual  0  Predicted  0.0046503410054036624\n",
            "Actual  0  Predicted  0.058708040332792456\n",
            "Actual  0  Predicted  0.2006082923796843\n",
            "Actual  1  Predicted  0.783181582773763\n",
            "Actual  0  Predicted  0.4536374947812684\n",
            "Actual  0  Predicted  0.5274085324235973\n",
            "Actual  1  Predicted  0.5628154305349833\n",
            "Actual  1  Predicted  0.8283398566049933\n",
            "Actual  0  Predicted  0.008525887468759942\n",
            "Actual  0  Predicted  0.0048769298357672275\n",
            "Actual  1  Predicted  0.9958664099609056\n",
            "Actual  1  Predicted  0.9994807448064665\n",
            "Actual  1  Predicted  0.9962481358929042\n",
            "Actual  0  Predicted  0.057265615527329235\n",
            "Actual  0  Predicted  0.47194683731672504\n",
            "Actual  0  Predicted  0.275371231054226\n",
            "Actual  0  Predicted  0.06572240047611849\n",
            "Actual  0  Predicted  0.05735587657189518\n",
            "Actual  0  Predicted  0.10747408195498263\n",
            "Actual  1  Predicted  0.4653709879928349\n",
            "Actual  0  Predicted  0.008525887468759942\n",
            "Actual  1  Predicted  0.4662024214468007\n",
            "Actual  1  Predicted  0.943770956651424\n",
            "Actual  1  Predicted  0.9986864838894195\n",
            "Actual  0  Predicted  0.4416806049875176\n",
            "Actual  0  Predicted  0.3319602866593044\n",
            "Actual  0  Predicted  0.9679884210945909\n",
            "Actual  0  Predicted  0.0029310156844956524\n",
            "Actual  0  Predicted  0.7384735083682319\n",
            "Actual  0  Predicted  0.0031438488810472008\n",
            "Actual  1  Predicted  0.9155204597866917\n",
            "Actual  0  Predicted  0.16742124943054965\n",
            "Actual  0  Predicted  0.01380819839972219\n",
            "Actual  0  Predicted  0.8482134850309582\n",
            "Actual  0  Predicted  0.1308325795113392\n",
            "Actual  0  Predicted  0.2514927514701797\n",
            "Actual  0  Predicted  0.47194683731672504\n",
            "Actual  1  Predicted  0.9322640097156814\n",
            "Actual  0  Predicted  0.11975078566445821\n",
            "Actual  1  Predicted  0.993453542401072\n",
            "Actual  1  Predicted  0.963867723023475\n",
            "Actual  1  Predicted  0.962084303749827\n",
            "Actual  0  Predicted  0.010349450250172365\n",
            "Actual  0  Predicted  0.9942011318773433\n",
            "Actual  1  Predicted  0.9564456372728879\n",
            "Actual  1  Predicted  0.9714374604414131\n",
            "Actual  1  Predicted  0.9864232488050148\n",
            "Actual  0  Predicted  0.2207948808113784\n",
            "Actual  1  Predicted  0.2903086053485149\n",
            "Actual  1  Predicted  0.2701331956599063\n",
            "Actual  0  Predicted  0.962956554140603\n",
            "Actual  1  Predicted  0.9072186343808002\n",
            "Actual  0  Predicted  0.4781155488193225\n",
            "Actual  0  Predicted  0.043423605716141914\n",
            "Actual  0  Predicted  0.005637204121906461\n",
            "Actual  1  Predicted  0.7570254470413184\n",
            "Actual  0  Predicted  0.24696842324569898\n",
            "Actual  0  Predicted  0.23372667738387803\n",
            "Actual  0  Predicted  0.47194683731672504\n",
            "Actual  1  Predicted  0.9989962962669054\n",
            "Actual  1  Predicted  0.18495738492875158\n",
            "Actual  0  Predicted  0.0005987290713982964\n",
            "Actual  1  Predicted  0.9986222574941469\n",
            "Actual  0  Predicted  0.010355155729663107\n",
            "Actual  0  Predicted  0.05473886681842547\n",
            "Actual  0  Predicted  0.004018163933407562\n",
            "Actual  1  Predicted  0.5511578957744755\n",
            "Actual  0  Predicted  0.11975078566445821\n",
            "Actual  1  Predicted  0.8747740460146308\n",
            "Actual  0  Predicted  0.08243224311817023\n",
            "Actual  0  Predicted  0.0008425440470159991\n",
            "Actual  0  Predicted  0.1575522375167299\n",
            "Actual  0  Predicted  0.11474614655325903\n",
            "Actual  0  Predicted  0.03951538186666263\n",
            "Actual  0  Predicted  0.006233657223033088\n",
            "Actual  0  Predicted  0.9963455593059732\n",
            "Actual  0  Predicted  0.24696842324569898\n",
            "Actual  1  Predicted  0.41143690926572196\n",
            "Actual  0  Predicted  0.0003855886756790871\n"
          ]
        }
      ],
      "metadata": {
        "colab": {
          "base_uri": "https://localhost:8080/"
        },
        "id": "5Ny3DmRrSVZV",
        "outputId": "1374edb9-1bbb-4e1f-81c9-4d8f28067ad5"
      }
    },
    {
      "cell_type": "code",
      "execution_count": 37,
      "source": [
        "count = 0\r\n",
        "for x in range(len(y_pred)):\r\n",
        "    if(y_pred[x]==y_test[x]):\r\n",
        "        count=count+1\r\n",
        "print('Accuracy:',(count/(len(y_pred)))*100)"
      ],
      "outputs": [
        {
          "output_type": "stream",
          "name": "stdout",
          "text": [
            "Accuracy: 80.83333333333333\n"
          ]
        }
      ],
      "metadata": {
        "colab": {
          "base_uri": "https://localhost:8080/"
        },
        "id": "nFPML-NdM7VM",
        "outputId": "e8075227-afb9-4d17-eb0c-a5acd9d26a32"
      }
    },
    {
      "cell_type": "code",
      "execution_count": 38,
      "source": [
        "# Fitting Logistic Regression to the Training set\r\n",
        "from sklearn.linear_model import LogisticRegression\r\n",
        "LR = LogisticRegression(random_state = 99)\r\n",
        "\r\n",
        "#Fit\r\n",
        "LR=LR.fit(X_train,y_train)\r\n",
        "\r\n",
        "#predicting the test label with LR. Predict always takes X as input\r\n",
        "y_pred=LR.predict(X_test)\r\n",
        "y_pred"
      ],
      "outputs": [
        {
          "output_type": "execute_result",
          "data": {
            "text/plain": [
              "array([0, 0, 0, 0, 0, 0, 0, 0, 0, 0, 0, 1, 0, 0, 0, 1, 0, 0, 0, 0, 0, 0,\n",
              "       0, 0, 1, 0, 0, 1, 0, 0, 0, 0, 1, 1, 0, 1, 0, 0, 0, 0, 0, 0, 0, 0,\n",
              "       1, 0, 1, 1, 1, 0, 0, 1, 1, 1, 0, 0, 0, 0, 0, 0, 0, 0, 0, 1, 1, 0,\n",
              "       0, 1, 0, 1, 0, 1, 0, 0, 1, 0, 0, 0, 1, 0, 1, 1, 1, 0, 1, 1, 1, 1,\n",
              "       0, 0, 0, 1, 1, 0, 0, 0, 1, 0, 0, 0, 1, 0, 0, 1, 0, 0, 0, 1, 0, 1,\n",
              "       0, 0, 0, 0, 0, 0, 1, 0, 0, 0])"
            ]
          },
          "metadata": {},
          "execution_count": 38
        }
      ],
      "metadata": {
        "colab": {
          "base_uri": "https://localhost:8080/"
        },
        "id": "NNtxLnZGM-T8",
        "outputId": "86c15621-cb71-4c1e-8eda-bdb0d16caf2b"
      }
    },
    {
      "cell_type": "code",
      "execution_count": 39,
      "source": [
        "count = 0\r\n",
        "for x in range(len(y_pred)):\r\n",
        "    if(y_pred[x]==y_test[x]):\r\n",
        "        count=count+1\r\n",
        "print('Accuracy:',(count/(len(y_pred)))*100)"
      ],
      "outputs": [
        {
          "output_type": "stream",
          "name": "stdout",
          "text": [
            "Accuracy: 81.66666666666667\n"
          ]
        }
      ],
      "metadata": {
        "colab": {
          "base_uri": "https://localhost:8080/"
        },
        "id": "o3L-qmY2Ssl5",
        "outputId": "36ef048c-0aaf-4aac-b2c2-a06208da0564"
      }
    }
  ]
}