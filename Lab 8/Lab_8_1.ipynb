{
  "nbformat": 4,
  "nbformat_minor": 0,
  "metadata": {
    "colab": {
      "name": "Lab_8_1.ipynb",
      "provenance": [],
      "collapsed_sections": []
    },
    "kernelspec": {
      "name": "python3",
      "display_name": "Python 3"
    },
    "language_info": {
      "name": "python"
    }
  },
  "cells": [
    {
      "cell_type": "markdown",
      "metadata": {
        "id": "a2jsxXj6uvVf"
      },
      "source": [
        "## Aim: Write a python program to perform K-Means clustering on Breast Cancer Data"
      ]
    },
    {
      "cell_type": "markdown",
      "metadata": {
        "id": "lCSbit7lvH4b"
      },
      "source": [
        "* `Import Libraries`"
      ]
    },
    {
      "cell_type": "code",
      "metadata": {
        "id": "EGiAzgm4nqAw"
      },
      "source": [
        "import numpy as np \n",
        "import pandas as pd \n",
        "from sklearn import datasets\n",
        "from sklearn.cluster import KMeans"
      ],
      "execution_count": 1,
      "outputs": []
    },
    {
      "cell_type": "markdown",
      "metadata": {
        "id": "Ox9f-P_hu7rQ"
      },
      "source": [
        "* `Prepare Data`"
      ]
    },
    {
      "cell_type": "code",
      "metadata": {
        "colab": {
          "base_uri": "https://localhost:8080/"
        },
        "id": "8vsXsbIUnzWx",
        "outputId": "ef0fde18-e801-4f69-8758-0fb358327386"
      },
      "source": [
        "dataset = datasets.load_breast_cancer()\n",
        "print(dataset.feature_names)\n",
        "print(dataset.target_names)\n",
        "print(dataset.data.shape)\n",
        "print(dataset.target.shape)"
      ],
      "execution_count": 8,
      "outputs": [
        {
          "output_type": "stream",
          "name": "stdout",
          "text": [
            "['mean radius' 'mean texture' 'mean perimeter' 'mean area'\n",
            " 'mean smoothness' 'mean compactness' 'mean concavity'\n",
            " 'mean concave points' 'mean symmetry' 'mean fractal dimension'\n",
            " 'radius error' 'texture error' 'perimeter error' 'area error'\n",
            " 'smoothness error' 'compactness error' 'concavity error'\n",
            " 'concave points error' 'symmetry error' 'fractal dimension error'\n",
            " 'worst radius' 'worst texture' 'worst perimeter' 'worst area'\n",
            " 'worst smoothness' 'worst compactness' 'worst concavity'\n",
            " 'worst concave points' 'worst symmetry' 'worst fractal dimension']\n",
            "['malignant' 'benign']\n",
            "(569, 30)\n",
            "(569,)\n"
          ]
        }
      ]
    },
    {
      "cell_type": "markdown",
      "metadata": {
        "id": "kaZEZ8DhvQJE"
      },
      "source": [
        "* `K-Mean Model`"
      ]
    },
    {
      "cell_type": "code",
      "metadata": {
        "colab": {
          "base_uri": "https://localhost:8080/"
        },
        "id": "WW2mN0b6vTyR",
        "outputId": "731662a0-d0c8-4993-fc7b-3a3d907d098d"
      },
      "source": [
        "kmeans = KMeans(n_clusters=10, random_state=0)\n",
        "prediction = kmeans.fit_predict(dataset.data)\n",
        "print(prediction)\n",
        "\n",
        "kmeans.cluster_centers_.shape"
      ],
      "execution_count": 10,
      "outputs": [
        {
          "output_type": "stream",
          "name": "stdout",
          "text": [
            "[6 6 6 4 6 0 1 5 0 0 8 8 1 5 0 5 8 8 7 0 0 9 5 7 7 1 5 1 8 8 1 5 8 6 8 8 5\n",
            " 4 0 0 0 4 1 5 0 1 9 0 4 0 4 0 4 1 5 4 7 5 0 9 9 9 5 9 5 5 9 4 9 4 6 9 1 5\n",
            " 0 8 0 1 6 0 4 0 3 1 4 1 5 1 4 5 5 5 5 0 5 6 4 9 4 5 5 9 4 9 9 5 4 4 7 4 9\n",
            " 4 0 9 9 4 9 8 8 8 4 1 7 0 0 0 5 1 5 1 4 8 8 5 1 0 4 4 5 4 9 8 4 0 4 4 4 5\n",
            " 5 0 0 9 9 4 0 4 8 8 4 4 4 1 7 4 7 5 9 8 1 5 4 5 8 9 9 9 9 5 0 4 3 7 8 4 5\n",
            " 9 1 4 4 4 0 0 9 0 5 0 5 8 6 5 0 8 7 8 0 5 9 8 0 5 6 4 3 8 5 0 4 9 6 7 0 0\n",
            " 9 8 0 5 9 5 0 0 8 4 4 6 9 0 3 6 5 1 0 4 4 0 1 9 0 0 4 4 7 4 6 8 6 5 6 5 8\n",
            " 5 6 8 8 5 1 3 9 0 0 9 0 4 7 9 8 4 4 8 0 0 6 4 1 8 0 4 4 0 4 4 5 5 0 4 4 0\n",
            " 9 4 5 9 7 4 6 9 4 4 0 9 0 0 4 5 0 4 9 4 4 1 9 4 9 6 0 6 4 4 0 4 8 5 8 0 4\n",
            " 4 4 8 0 6 9 3 5 9 4 1 4 9 4 5 4 4 4 5 3 5 4 4 0 0 9 9 4 0 4 8 0 6 6 0 3 7\n",
            " 8 5 6 6 0 5 9 0 0 4 4 4 4 4 0 5 4 0 4 1 9 9 8 7 4 0 0 0 4 4 8 4 0 0 4 4 5\n",
            " 0 1 0 4 4 9 5 5 4 9 1 4 4 4 5 4 0 9 9 9 4 4 0 5 4 1 1 5 5 0 0 0 0 4 8 0 9\n",
            " 8 4 1 5 5 7 4 1 4 5 0 0 4 0 0 9 1 2 0 4 0 0 0 9 1 4 9 4 5 4 4 0 5 0 4 5 4\n",
            " 5 0 0 5 4 5 6 4 8 0 8 1 4 0 5 0 0 1 6 5 5 4 3 9 9 4 9 5 5 4 5 5 5 5 4 1 6\n",
            " 0 0 9 3 4 0 9 9 0 4 0 4 4 4 0 6 9 6 0 4 9 9 4 5 5 0 0 0 9 9 9 4 9 4 0 9 0\n",
            " 9 9 9 0 4 0 4 5 6 7 6 8 6 9]\n"
          ]
        },
        {
          "output_type": "execute_result",
          "data": {
            "text/plain": [
              "(10, 30)"
            ]
          },
          "metadata": {},
          "execution_count": 10
        }
      ]
    },
    {
      "cell_type": "markdown",
      "metadata": {
        "id": "MbPEZvOkv3di"
      },
      "source": [
        "* `Scatter Plot of the Data Points`"
      ]
    },
    {
      "cell_type": "code",
      "metadata": {
        "colab": {
          "base_uri": "https://localhost:8080/",
          "height": 275
        },
        "id": "51jNejsMv9q1",
        "outputId": "b7f82b8c-74c0-4dd7-e993-cdb111f04439"
      },
      "source": [
        "# Scatter plot of the data points\n",
        "import matplotlib.pyplot as plt\n",
        "\n",
        "fig, ax = plt.subplots(2, 5, figsize=(8, 5))\n",
        "centers = kmeans.cluster_centers_.reshape(10, 6, 5)\n",
        "\n",
        "for axi, center in zip(ax.flat, centers):\n",
        "  axi.set(xticks=[], yticks=[])\n",
        "  axi.imshow(center, interpolation='nearest', cmap=plt.cm.binary)"
      ],
      "execution_count": 11,
      "outputs": [
        {
          "output_type": "display_data",
          "data": {
            "image/png": "[encoded data removed]",
            "text/plain": [
              "<Figure size 576x360 with 10 Axes>"
            ]
          },
          "metadata": {}
        }
      ]
    },
    {
      "cell_type": "code",
      "metadata": {
        "id": "7CyqpiPnwJgE"
      },
      "source": [
        "import numpy as np\n",
        "from scipy.stats import mode\n",
        "labels = np.zeros_like(prediction)\n",
        "for i in range(10):\n",
        "  mask = (prediction == i)\n",
        "  labels[mask] = mode(dataset.target[mask])[0]"
      ],
      "execution_count": 12,
      "outputs": []
    },
    {
      "cell_type": "code",
      "metadata": {
        "colab": {
          "base_uri": "https://localhost:8080/"
        },
        "id": "S6X00IB_wL-j",
        "outputId": "32a6c2d0-cb8e-4562-d7cd-7a47aa5c5393"
      },
      "source": [
        "from sklearn.metrics import accuracy_score\n",
        "accuracy_score(dataset.target, labels)"
      ],
      "execution_count": 13,
      "outputs": [
        {
          "output_type": "execute_result",
          "data": {
            "text/plain": [
              "0.8892794376098418"
            ]
          },
          "metadata": {},
          "execution_count": 13
        }
      ]
    },
    {
      "cell_type": "code",
      "metadata": {
        "colab": {
          "base_uri": "https://localhost:8080/",
          "height": 279
        },
        "id": "Qbn5pOwFwPHy",
        "outputId": "f2c27428-f17d-4ac6-d180-1287c3f10d60"
      },
      "source": [
        "from sklearn.metrics import confusion_matrix\n",
        "import seaborn as sns\n",
        "\n",
        "mat = confusion_matrix(dataset.target, labels)\n",
        "ax = sns.heatmap(mat.T, square=True, annot=True, fmt='d', cbar=False,xticklabels=dataset.target_names,yticklabels=dataset.target_names)\n",
        "\n",
        "plt.xlabel('true label')\n",
        "plt.ylabel('predicted label');"
      ],
      "execution_count": 14,
      "outputs": [
        {
          "output_type": "display_data",
          "data": {
            "image/png": "[encoded data removed]",
            "text/plain": [
              "<Figure size 432x288 with 1 Axes>"
            ]
          },
          "metadata": {
            "needs_background": "light"
          }
        }
      ]
    }
  ]
}