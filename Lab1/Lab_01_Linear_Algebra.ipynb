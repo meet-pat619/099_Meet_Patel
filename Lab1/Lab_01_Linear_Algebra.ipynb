{
 "cells": [
  {
   "cell_type": "markdown",
   "metadata": {
    "colab_type": "text",
    "id": "view-in-github"
   },
   "source": [
    "<a href=\"https://colab.research.google.com/github/r5racker/012_RahilBhensdadia/blob/main/Lab_01_Linear_Algebra.ipynb\" target=\"_parent\"><img src=\"https://colab.research.google.com/assets/colab-badge.svg\" alt=\"Open In Colab\"/></a>"
   ]
  },
  {
   "cell_type": "code",
   "execution_count": 1,
   "metadata": {
    "colab": {
     "base_uri": "https://localhost:8080/"
    },
    "id": "Wytm29pC8GxP",
    "outputId": "4c419fcd-fed1-4e17-b77b-6381e919f16d"
   },
   "outputs": [
    {
     "name": "stdout",
     "output_type": "stream",
     "text": [
      "Mounted at /content/drive\n"
     ]
    }
   ],
   "source": [
    "from google.colab import drive\n",
    "drive.mount(\"/content/drive\")"
   ]
  },
  {
   "cell_type": "code",
   "execution_count": 2,
   "metadata": {
    "id": "NLhsXKXm8wDd"
   },
   "outputs": [],
   "source": [
    "import numpy as np\n",
    "import pandas as pd"
   ]
  },
  {
   "cell_type": "code",
   "execution_count": 4,
   "metadata": {
    "colab": {
     "base_uri": "https://localhost:8080/"
    },
    "id": "YrMwOlBi9RHU",
    "outputId": "f2ebb681-2bff-4fb6-e722-b72deb886cc2"
   },
   "outputs": [
    {
     "name": "stdout",
     "output_type": "stream",
     "text": [
      "[[5 9 3]\n",
      " [3 7 5]]\n",
      "[[ 3 -9]\n",
      " [ 5  4]\n",
      " [ 7 -8]]\n"
     ]
    }
   ],
   "source": [
    "# two matrics\n",
    "array1 = np.array([[5, 9, 3],[3, 7, 5]])\n",
    "array2 = np.array([[3,-9],[5, 4],[7, -8]])\n",
    "print(array1)\n",
    "print(array2)"
   ]
  },
  {
   "cell_type": "code",
   "execution_count": 6,
   "metadata": {
    "colab": {
     "base_uri": "https://localhost:8080/"
    },
    "id": "0G4ztctz9iph",
    "outputId": "4e80eaac-a4c7-4ca7-bd65-a1eb4fc56498"
   },
   "outputs": [
    {
     "name": "stdout",
     "output_type": "stream",
     "text": [
      "[[0.54933877 0.80776604 0.54930669 0.91085202]\n",
      " [0.72880772 0.3062133  0.31212004 0.9418016 ]\n",
      " [0.83965875 0.44679129 0.36775939 0.16950713]]\n"
     ]
    }
   ],
   "source": [
    "#randomly initialize array\n",
    "array = np.random.rand(3, 4)\n",
    "print(array)"
   ]
  },
  {
   "cell_type": "code",
   "execution_count": 7,
   "metadata": {
    "colab": {
     "base_uri": "https://localhost:8080/"
    },
    "id": "pGD17M4e9t9Z",
    "outputId": "e19c7baf-dfb0-4ab2-c0b5-f59d8a5f273b"
   },
   "outputs": [
    {
     "name": "stdout",
     "output_type": "stream",
     "text": [
      "[[ 81 -33]\n",
      " [ 79 -39]]\n"
     ]
    }
   ],
   "source": [
    "# perform matrix multiplication\n",
    "mul = np.dot(array1, array2)\n",
    "print(mul)"
   ]
  },
  {
   "cell_type": "code",
   "execution_count": 9,
   "metadata": {
    "colab": {
     "base_uri": "https://localhost:8080/"
    },
    "id": "mCT8XbnA926h",
    "outputId": "336236f7-8bc5-4b7c-cb89-3e1a042255db"
   },
   "outputs": [
    {
     "name": "stdout",
     "output_type": "stream",
     "text": [
      "[[81, -33], [79, -39]]\n"
     ]
    }
   ],
   "source": [
    "# perform element wise matrix multiplication\n",
    "res = [[0 for x in range(len(array1))] for y in range(len(array2[0]))]\n",
    "\n",
    "for i in range(len(array1)): \n",
    "  for j in range(len(array2[0])): \n",
    "    for k in range(len(array2)): \n",
    "      res[i][j] += array1[i][k] * array2[k][j]\n",
    " \n",
    "print (res) "
   ]
  },
  {
   "cell_type": "code",
   "execution_count": 10,
   "metadata": {
    "colab": {
     "base_uri": "https://localhost:8080/"
    },
    "id": "pmbcqzXg-SsJ",
    "outputId": "eb21dbd5-cc1e-4e39-c6ab-b915d3beb1d0"
   },
   "outputs": [
    {
     "name": "stdout",
     "output_type": "stream",
     "text": [
      "5.333333333333333\n"
     ]
    }
   ],
   "source": [
    "# mean of first matrix\n",
    "mean = np.mean(array1)\n",
    "print(mean)"
   ]
  },
  {
   "cell_type": "code",
   "execution_count": 13,
   "metadata": {
    "id": "AOi7uQv-SdIm"
   },
   "outputs": [],
   "source": [
    "main_data = pd.read_csv(\"/content/drive/MyDrive/Sem7/My_ML/Lab1/mtcars.csv\")"
   ]
  },
  {
   "cell_type": "code",
   "execution_count": 14,
   "metadata": {
    "colab": {
     "base_uri": "https://localhost:8080/"
    },
    "id": "WQvwWW_ATFPq",
    "outputId": "e8c32a62-1659-4022-a16a-d843196cd22a"
   },
   "outputs": [
    {
     "name": "stdout",
     "output_type": "stream",
     "text": [
      "        mpg     cyl        disp       hp  ...      vs       am    gear    carb\n",
      "0  0.909375 -0.1875  -70.721875 -36.6875  ... -0.4375  0.59375  0.3125  1.1875\n",
      "1  0.909375 -0.1875  -70.721875 -36.6875  ... -0.4375  0.59375  0.3125  1.1875\n",
      "2  2.709375 -2.1875 -122.721875 -53.6875  ...  0.5625  0.59375  0.3125 -1.8125\n",
      "3  1.309375 -0.1875   27.278125 -36.6875  ...  0.5625 -0.40625 -0.6875 -1.8125\n",
      "4 -1.390625  1.8125  129.278125  28.3125  ... -0.4375 -0.40625 -0.6875 -0.8125\n",
      "\n",
      "[5 rows x 11 columns]\n"
     ]
    }
   ],
   "source": [
    "del main_data['model']\n",
    "# meancenter\n",
    "meancenter = main_data.apply(lambda e: e - e.mean())\n",
    "print(meancenter.head())\n"
   ]
  },
  {
   "cell_type": "code",
   "execution_count": null,
   "metadata": {
    "id": "yLR1NUfNUDvX"
   },
   "outputs": [],
   "source": []
  }
 ],
 "metadata": {
  "colab": {
   "collapsed_sections": [],
   "include_colab_link": true,
   "name": "Lab_01_Linear_Algebra.ipynb",
   "provenance": []
  },
  "kernelspec": {
   "display_name": "Python 3 (ipykernel)",
   "language": "python",
   "name": "python3"
  },
  "language_info": {
   "codemirror_mode": {
    "name": "ipython",
    "version": 3
   },
   "file_extension": ".py",
   "mimetype": "text/x-python",
   "name": "python",
   "nbconvert_exporter": "python",
   "pygments_lexer": "ipython3",
   "version": "3.9.6"
  }
 },
 "nbformat": 4,
 "nbformat_minor": 1
}
