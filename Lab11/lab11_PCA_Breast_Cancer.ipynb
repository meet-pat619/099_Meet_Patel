{
  "nbformat": 4,
  "nbformat_minor": 2,
  "metadata": {
    "colab": {
      "name": "lab9_PCA_Breast_Cancer.ipynb",
      "provenance": []
    },
    "kernelspec": {
      "name": "python3",
      "display_name": "Python 3"
    },
    "language_info": {
      "name": "python"
    }
  },
  "cells": [
    {
      "cell_type": "code",
      "execution_count": 1,
      "source": [
        "import matplotlib.pyplot as plt\r\n",
        "import numpy as np\r\n",
        "import pandas as pd\r\n",
        "%matplotlib inline"
      ],
      "outputs": [],
      "metadata": {
        "id": "qQ6pQ1anQUNt"
      }
    },
    {
      "cell_type": "code",
      "execution_count": 2,
      "source": [
        "from sklearn.datasets import load_breast_cancer\r\n",
        "cancer=load_breast_cancer()\r\n",
        "cancer.keys()"
      ],
      "outputs": [
        {
          "output_type": "execute_result",
          "data": {
            "text/plain": [
              "dict_keys(['data', 'target', 'target_names', 'DESCR', 'feature_names', 'filename'])"
            ]
          },
          "metadata": {},
          "execution_count": 2
        }
      ],
      "metadata": {
        "colab": {
          "base_uri": "https://localhost:8080/"
        },
        "id": "hRh9ssDrQlJ6",
        "outputId": "2c7519d8-dca7-4ea6-e6f9-ff59c4fa0b5e"
      }
    },
    {
      "cell_type": "code",
      "execution_count": 25,
      "source": [
        "from sklearn.model_selection import train_test_split\r\n",
        "X_train, X_test, y_train, y_test = train_test_split(cancer.data, cancer.target, random_state=99, test_size=0.2)\r\n",
        "print(X_train.shape, X_test.shape)"
      ],
      "outputs": [
        {
          "output_type": "stream",
          "name": "stdout",
          "text": [
            "(455, 30) (114, 30)\n"
          ]
        }
      ],
      "metadata": {
        "colab": {
          "base_uri": "https://localhost:8080/"
        },
        "id": "5j1fW_TnQ5TY",
        "outputId": "18b3fa8a-3f56-4f84-a599-4dd172c30aa0"
      }
    },
    {
      "cell_type": "code",
      "execution_count": 26,
      "source": [
        "from sklearn import decomposition\r\n",
        "pca = decomposition.PCA(n_components=2,whiten=True)\r\n",
        "pca.fit(X_train)"
      ],
      "outputs": [
        {
          "output_type": "execute_result",
          "data": {
            "text/plain": [
              "PCA(copy=True, iterated_power='auto', n_components=2, random_state=None,\n",
              "    svd_solver='auto', tol=0.0, whiten=True)"
            ]
          },
          "metadata": {},
          "execution_count": 26
        }
      ],
      "metadata": {
        "colab": {
          "base_uri": "https://localhost:8080/"
        },
        "id": "zCzFGQ_KRUmt",
        "outputId": "4f2d6e2b-6780-45ac-8248-63365ea0ea30"
      }
    },
    {
      "cell_type": "code",
      "execution_count": 27,
      "source": [
        "print(pca.components_.shape)"
      ],
      "outputs": [
        {
          "output_type": "stream",
          "name": "stdout",
          "text": [
            "(2, 30)\n"
          ]
        }
      ],
      "metadata": {
        "colab": {
          "base_uri": "https://localhost:8080/"
        },
        "id": "OlLfdwsWRus8",
        "outputId": "e221d2a0-f882-4e7f-cc63-f7fe8692a982"
      }
    },
    {
      "cell_type": "code",
      "execution_count": 28,
      "source": [
        "X_train_pca = pca.transform(X_train)\r\n",
        "X_test_pca = pca.transform(X_test)\r\n",
        "print(X_train_pca.shape)\r\n"
      ],
      "outputs": [
        {
          "output_type": "stream",
          "name": "stdout",
          "text": [
            "(455, 2)\n"
          ]
        }
      ],
      "metadata": {
        "colab": {
          "base_uri": "https://localhost:8080/"
        },
        "id": "wXf2wFMhSj2d",
        "outputId": "a02a8e79-d308-4ee0-c219-36823d4f96b8"
      }
    },
    {
      "cell_type": "code",
      "execution_count": 29,
      "source": [
        "print(X_test_pca.shape)"
      ],
      "outputs": [
        {
          "output_type": "stream",
          "name": "stdout",
          "text": [
            "(114, 2)\n"
          ]
        }
      ],
      "metadata": {
        "colab": {
          "base_uri": "https://localhost:8080/"
        },
        "id": "ZB92iu7iSmUM",
        "outputId": "1f4e4298-45ee-4639-a5b2-69c900f3ea3f"
      }
    },
    {
      "cell_type": "code",
      "execution_count": 30,
      "source": [
        "from sklearn import svm\r\n",
        "clf = svm.SVC(C=5., gamma=0.001)\r\n",
        "clf.fit(X_train_pca, y_train)"
      ],
      "outputs": [
        {
          "output_type": "execute_result",
          "data": {
            "text/plain": [
              "SVC(C=5.0, break_ties=False, cache_size=200, class_weight=None, coef0=0.0,\n",
              "    decision_function_shape='ovr', degree=3, gamma=0.001, kernel='rbf',\n",
              "    max_iter=-1, probability=False, random_state=None, shrinking=True,\n",
              "    tol=0.001, verbose=False)"
            ]
          },
          "metadata": {},
          "execution_count": 30
        }
      ],
      "metadata": {
        "colab": {
          "base_uri": "https://localhost:8080/"
        },
        "id": "GWYqNp7_Sxd8",
        "outputId": "47ef1f79-a2ff-4ee0-f126-5da212637628"
      }
    },
    {
      "cell_type": "code",
      "execution_count": 31,
      "source": [
        "from sklearn import metrics\r\n",
        "y_pred = clf.predict(X_test_pca)\r\n",
        "print(metrics.classification_report(y_test, y_pred))"
      ],
      "outputs": [
        {
          "output_type": "stream",
          "name": "stdout",
          "text": [
            "              precision    recall  f1-score   support\n",
            "\n",
            "           0       1.00      0.62      0.77        50\n",
            "           1       0.77      1.00      0.87        64\n",
            "\n",
            "    accuracy                           0.83       114\n",
            "   macro avg       0.89      0.81      0.82       114\n",
            "weighted avg       0.87      0.83      0.82       114\n",
            "\n"
          ]
        }
      ],
      "metadata": {
        "colab": {
          "base_uri": "https://localhost:8080/"
        },
        "id": "j_ENQqcnSzp9",
        "outputId": "13957abc-a3ef-4c05-b4db-32bbc40ccdcb"
      }
    }
  ]
}