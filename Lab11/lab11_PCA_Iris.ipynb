{
  "nbformat": 4,
  "nbformat_minor": 2,
  "metadata": {
    "colab": {
      "name": "lab11_PCA_Iris.ipynb",
      "provenance": []
    },
    "kernelspec": {
      "name": "python3",
      "display_name": "Python 3"
    },
    "language_info": {
      "name": "python"
    }
  },
  "cells": [
    {
      "cell_type": "code",
      "execution_count": null,
      "source": [
        "import matplotlib.pyplot as plt\r\n",
        "import numpy as np\r\n",
        "import pandas as pd\r\n",
        "%matplotlib inline"
      ],
      "outputs": [],
      "metadata": {
        "id": "2fXuap9ZVAXP"
      }
    },
    {
      "cell_type": "code",
      "execution_count": 3,
      "source": [
        "from sklearn import datasets\r\n",
        "iris = datasets.load_iris()\r\n",
        "iris.keys()"
      ],
      "outputs": [
        {
          "output_type": "execute_result",
          "data": {
            "text/plain": [
              "dict_keys(['data', 'target', 'target_names', 'DESCR', 'feature_names', 'filename'])"
            ]
          },
          "metadata": {},
          "execution_count": 3
        }
      ],
      "metadata": {
        "colab": {
          "base_uri": "https://localhost:8080/"
        },
        "id": "tyCjIbA9ZAwA",
        "outputId": "0e4206aa-f6a9-4d62-d529-eea8628c1014"
      }
    },
    {
      "cell_type": "code",
      "execution_count": 4,
      "source": [
        "from sklearn.model_selection import train_test_split\r\n",
        "X_train, X_test, y_train, y_test = train_test_split(iris.data, iris.target, random_state=99, test_size=0.2)\r\n",
        "print(X_train.shape, X_test.shape)"
      ],
      "outputs": [
        {
          "output_type": "stream",
          "name": "stdout",
          "text": [
            "(120, 4) (30, 4)\n"
          ]
        }
      ],
      "metadata": {
        "colab": {
          "base_uri": "https://localhost:8080/"
        },
        "id": "Kks33Sx1Zc6E",
        "outputId": "2345d1c3-7e4a-4e98-fb77-d1d3e25c8e04"
      }
    },
    {
      "cell_type": "code",
      "execution_count": 5,
      "source": [
        "from sklearn import decomposition\r\n",
        "pca = decomposition.PCA(n_components=2,whiten=True)\r\n",
        "pca.fit(X_train)"
      ],
      "outputs": [
        {
          "output_type": "execute_result",
          "data": {
            "text/plain": [
              "PCA(copy=True, iterated_power='auto', n_components=2, random_state=None,\n",
              "    svd_solver='auto', tol=0.0, whiten=True)"
            ]
          },
          "metadata": {},
          "execution_count": 5
        }
      ],
      "metadata": {
        "colab": {
          "base_uri": "https://localhost:8080/"
        },
        "id": "ZjiEn32fZmQm",
        "outputId": "a24ae278-89c4-4241-834a-304b07fe181e"
      }
    },
    {
      "cell_type": "code",
      "execution_count": 6,
      "source": [
        "print(pca.components_.shape)"
      ],
      "outputs": [
        {
          "output_type": "stream",
          "name": "stdout",
          "text": [
            "(2, 4)\n"
          ]
        }
      ],
      "metadata": {
        "colab": {
          "base_uri": "https://localhost:8080/"
        },
        "id": "XsQ_fb2OZrsK",
        "outputId": "b09274f2-0d27-4271-c15b-927ccbbc0011"
      }
    },
    {
      "cell_type": "code",
      "execution_count": 7,
      "source": [
        "X_train_pca = pca.transform(X_train)\r\n",
        "X_test_pca = pca.transform(X_test)\r\n",
        "print(X_train_pca.shape)"
      ],
      "outputs": [
        {
          "output_type": "stream",
          "name": "stdout",
          "text": [
            "(120, 2)\n"
          ]
        }
      ],
      "metadata": {
        "colab": {
          "base_uri": "https://localhost:8080/"
        },
        "id": "acfb-1U_ZwYe",
        "outputId": "ef1355a6-146b-40e0-f836-6208e0095c1a"
      }
    },
    {
      "cell_type": "code",
      "execution_count": 8,
      "source": [
        "print(X_test_pca.shape)"
      ],
      "outputs": [
        {
          "output_type": "stream",
          "name": "stdout",
          "text": [
            "(30, 2)\n"
          ]
        }
      ],
      "metadata": {
        "colab": {
          "base_uri": "https://localhost:8080/"
        },
        "id": "Vhi5fO4oZ1Q3",
        "outputId": "4e43e3d2-cf8f-47b5-96af-85b4604546d5"
      }
    },
    {
      "cell_type": "code",
      "execution_count": 9,
      "source": [
        "from sklearn import svm\r\n",
        "clf = svm.SVC(C=5., gamma=0.001)\r\n",
        "clf.fit(X_train_pca, y_train)\r\n"
      ],
      "outputs": [
        {
          "output_type": "execute_result",
          "data": {
            "text/plain": [
              "SVC(C=5.0, break_ties=False, cache_size=200, class_weight=None, coef0=0.0,\n",
              "    decision_function_shape='ovr', degree=3, gamma=0.001, kernel='rbf',\n",
              "    max_iter=-1, probability=False, random_state=None, shrinking=True,\n",
              "    tol=0.001, verbose=False)"
            ]
          },
          "metadata": {},
          "execution_count": 9
        }
      ],
      "metadata": {
        "colab": {
          "base_uri": "https://localhost:8080/"
        },
        "id": "UwUIUAipZ6Tc",
        "outputId": "9fba70d2-aeae-46f9-e5c3-c440ab693801"
      }
    },
    {
      "cell_type": "code",
      "execution_count": 13,
      "source": [
        "from sklearn import metrics\r\n",
        "y_pred = clf.predict(X_test_pca)\r\n",
        "print(y_pred)\r\n"
      ],
      "outputs": [
        {
          "output_type": "stream",
          "name": "stdout",
          "text": [
            "[1 0 1 1 2 0 1 1 2 2 0 1 2 1 1 2 2 0 2 1 1 1 0 0 0 0 2 1 2 1]\n"
          ]
        }
      ],
      "metadata": {
        "colab": {
          "base_uri": "https://localhost:8080/"
        },
        "id": "2XPa_RfWZ-bS",
        "outputId": "c3f0bf5d-dc2d-4125-b4e7-27e21179732a"
      }
    },
    {
      "cell_type": "code",
      "execution_count": 15,
      "source": [
        "print(\"Accuracy:\",metrics.accuracy_score(y_test, y_pred))"
      ],
      "outputs": [
        {
          "output_type": "stream",
          "name": "stdout",
          "text": [
            "Accuracy: 0.7666666666666667\n"
          ]
        }
      ],
      "metadata": {
        "colab": {
          "base_uri": "https://localhost:8080/"
        },
        "id": "Ge6A_pugbBfJ",
        "outputId": "51c9b4b8-d7dc-4801-d7d1-81e3e996d1ed"
      }
    },
    {
      "cell_type": "code",
      "execution_count": 14,
      "source": [
        "print(metrics.classification_report(y_test, y_pred))"
      ],
      "outputs": [
        {
          "output_type": "stream",
          "name": "stdout",
          "text": [
            "              precision    recall  f1-score   support\n",
            "\n",
            "           0       0.75      1.00      0.86         6\n",
            "           1       0.69      0.75      0.72        12\n",
            "           2       0.89      0.67      0.76        12\n",
            "\n",
            "    accuracy                           0.77        30\n",
            "   macro avg       0.78      0.81      0.78        30\n",
            "weighted avg       0.78      0.77      0.76        30\n",
            "\n"
          ]
        }
      ],
      "metadata": {
        "colab": {
          "base_uri": "https://localhost:8080/"
        },
        "id": "-Km4A7aAa8yM",
        "outputId": "aaee125c-2424-4cad-8f58-ca70d9b7f14f"
      }
    }
  ]
}