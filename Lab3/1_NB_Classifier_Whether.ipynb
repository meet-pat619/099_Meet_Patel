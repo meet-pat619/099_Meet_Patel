{
 "cells": [
  {
   "cell_type": "markdown",
   "source": [
    "**Aim: Implement Naive Bayes classifier : Whether Example**"
   ],
   "metadata": {
    "colab_type": "text",
    "id": "v-qaLkV_wIwA"
   }
  },
  {
   "cell_type": "markdown",
   "source": [
    "#Step 1: Import necessary libraries.\n",
    "We will use preprocessing and naive bayes libraries of sklearn"
   ],
   "metadata": {
    "colab_type": "text",
    "id": "fE3k_I_lwE3_"
   }
  },
  {
   "cell_type": "code",
   "execution_count": null,
   "source": [
    "from sklearn import preprocessing\r\n",
    "from sklearn.naive_bayes import GaussianNB, MultinomialNB"
   ],
   "outputs": [],
   "metadata": {
    "colab": {},
    "colab_type": "code",
    "id": "AX_Lt4HDvoF4"
   }
  },
  {
   "cell_type": "markdown",
   "source": [
    "#Step 2: Prepare dataset.\n",
    "Create feature set for weather and temperature, and classlabel play."
   ],
   "metadata": {
    "colab_type": "text",
    "id": "heSKGhv4wPYo"
   }
  },
  {
   "cell_type": "code",
   "execution_count": 2,
   "source": [
    "weather = ['Sunny', 'Sunny', 'Overcast', 'Rainy', 'Rainy','Rainy', 'Overcast',\r\n",
    "           'Sunny', 'Sunny', 'Rainy', 'Sunny', 'Overcast', 'Overcast', 'Rainy']\r\n",
    "\r\n",
    "temp = ['Hot','Hot','Hot','Mild','Cool','Cool','Cool','Mild',\r\n",
    "        'Cool','Mild','Mild','Mild','Hot','Mild']\r\n",
    "\r\n",
    "play=['No','No','Yes','Yes','Yes','No','Yes','No','Yes',\r\n",
    "      'Yes','Yes','Yes','Yes','No']"
   ],
   "outputs": [],
   "metadata": {
    "colab": {},
    "colab_type": "code",
    "id": "YBmuKC8mvoGe"
   }
  },
  {
   "cell_type": "markdown",
   "source": [
    "#Step 3: Digitize the data set using encoding"
   ],
   "metadata": {
    "colab_type": "text",
    "id": "VLHsDzOlwUcc"
   }
  },
  {
   "cell_type": "code",
   "execution_count": 3,
   "source": [
    "#creating labelEncoder\n",
    "le = preprocessing.LabelEncoder()\n",
    "\n",
    "# Converting string labels into numbers.\n",
    "weather_encoded=le.fit_transform(weather)\n",
    "print(\"Weather:\" ,weather_encoded)"
   ],
   "outputs": [
    {
     "output_type": "stream",
     "name": "stdout",
     "text": [
      "Weather: [2 2 0 1 1 1 0 2 2 1 2 0 0 1]\n"
     ]
    }
   ],
   "metadata": {
    "colab": {
     "base_uri": "https://localhost:8080/",
     "height": 34
    },
    "colab_type": "code",
    "id": "D2Y-GxbyvoG-",
    "outputId": "aa3ddce2-228b-46bb-8817-9ecc8778fafc"
   }
  },
  {
   "cell_type": "code",
   "execution_count": 4,
   "source": [
    "temp_encoded=le.fit_transform(temp)\n",
    "label=le.fit_transform(play)\n",
    "\n",
    "print(\"Temp:\",temp_encoded)\n",
    "print(\"Play:\",label)"
   ],
   "outputs": [
    {
     "output_type": "stream",
     "name": "stdout",
     "text": [
      "Temp: [1 1 1 2 0 0 0 2 0 2 2 2 1 2]\n",
      "Play: [0 0 1 1 1 0 1 0 1 1 1 1 1 0]\n"
     ]
    }
   ],
   "metadata": {
    "colab": {
     "base_uri": "https://localhost:8080/",
     "height": 52
    },
    "colab_type": "code",
    "id": "E8pKDFm8voHY",
    "outputId": "c63793bd-0e5a-4cf5-9bf3-d938b0a7543b"
   }
  },
  {
   "cell_type": "markdown",
   "source": [
    "#Step 4: Merge different features to prepare dataset"
   ],
   "metadata": {
    "colab_type": "text",
    "id": "1u2XKORtwckp"
   }
  },
  {
   "cell_type": "code",
   "execution_count": 5,
   "source": [
    "#Combinig weather and temp into single listof tuples\n",
    "features=tuple(zip(weather_encoded,temp_encoded))\n",
    "print(\"Features:\",features)"
   ],
   "outputs": [
    {
     "output_type": "stream",
     "name": "stdout",
     "text": [
      "Features: ((2, 1), (2, 1), (0, 1), (1, 2), (1, 0), (1, 0), (0, 0), (2, 2), (2, 0), (1, 2), (2, 2), (0, 2), (0, 1), (1, 2))\n"
     ]
    }
   ],
   "metadata": {
    "colab": {
     "base_uri": "https://localhost:8080/",
     "height": 34
    },
    "colab_type": "code",
    "id": "zcNtO6aUvoHs",
    "outputId": "12856dcb-b8c8-489d-a20b-44c9647b69b9"
   }
  },
  {
   "cell_type": "markdown",
   "source": [],
   "metadata": {
    "colab_type": "text",
    "id": "CDOMHUccT1hA"
   }
  },
  {
   "cell_type": "markdown",
   "source": [
    "#Step 5: Train ’Naive Bayes Classifier’"
   ],
   "metadata": {
    "colab_type": "text",
    "id": "ZTs-FRS5wgQs"
   }
  },
  {
   "cell_type": "code",
   "execution_count": 6,
   "source": [
    "#Create a Classifier\n",
    "model=MultinomialNB()\n",
    "# Train the model using the training sets\n",
    "model.fit(features,label)"
   ],
   "outputs": [
    {
     "output_type": "execute_result",
     "data": {
      "text/plain": [
       "MultinomialNB()"
      ]
     },
     "metadata": {},
     "execution_count": 6
    }
   ],
   "metadata": {
    "colab": {
     "base_uri": "https://localhost:8080/",
     "height": 34
    },
    "colab_type": "code",
    "id": "6ON9ljKDvoIB",
    "outputId": "875d2a01-7cea-4f6f-b72f-23b31ff704fb"
   }
  },
  {
   "cell_type": "markdown",
   "source": [
    "#Step 6: Predict Output for new data"
   ],
   "metadata": {
    "colab_type": "text",
    "id": "vRuNrfolwjn4"
   }
  },
  {
   "cell_type": "code",
   "execution_count": 7,
   "source": [
    "#Predict Output\n",
    "predicted= model.predict([[0,2]]) # 0:Overcast, 2:Mild\n",
    "print(\"Predicted Value:\", predicted)"
   ],
   "outputs": [
    {
     "output_type": "stream",
     "name": "stdout",
     "text": [
      "Predicted Value: [1]\n"
     ]
    }
   ],
   "metadata": {
    "colab": {
     "base_uri": "https://localhost:8080/",
     "height": 34
    },
    "colab_type": "code",
    "id": "Ix6AhMALvoIU",
    "outputId": "372fbc51-9ef8-4305-9214-fd2e0f11aa24"
   }
  },
  {
   "cell_type": "code",
   "execution_count": 10,
   "source": [
    "predicted= model.predict([[0,1]]) # 0:Overcast, 1:Hot\n",
    "print(\"Predicted Value:\", predicted)"
   ],
   "outputs": [
    {
     "output_type": "stream",
     "name": "stdout",
     "text": [
      "Predicted Value: [1]\n"
     ]
    }
   ],
   "metadata": {
    "colab": {
     "base_uri": "https://localhost:8080/",
     "height": 34
    },
    "colab_type": "code",
    "id": "HGejlGZvvoIk",
    "outputId": "021275ce-36f9-44c0-cfd5-bb7057abe813"
   }
  },
  {
   "cell_type": "code",
   "execution_count": 11,
   "source": [
    "predicted= model.predict([[2,2]]) # 2:Sunny, 2:Mild\n",
    "\n",
    "print(\"Predicted Value:\", predicted)"
   ],
   "outputs": [
    {
     "output_type": "stream",
     "name": "stdout",
     "text": [
      "Predicted Value: [1]\n"
     ]
    }
   ],
   "metadata": {
    "colab": {
     "base_uri": "https://localhost:8080/",
     "height": 34
    },
    "colab_type": "code",
    "id": "ROG6v7C_voIy",
    "outputId": "0111d37f-41d9-4b51-a2ad-7bcddc0ee26c"
   }
  },
  {
   "cell_type": "markdown",
   "source": [
    "#Exercise:\n",
    "\n",
    "**Manually calculate output for the following cases and compare it with system’s output.**\n",
    "\n",
    "######(1) Will you play if the temperature is 'Hot' and weather is 'overcast'?\n",
    "\n",
    "######(2) Will you play if the temperature is 'Mild' and weather is 'Sunny'?\n",
    "\n",
    "\n",
    "\n",
    "\n",
    "\n",
    "\n",
    "\n",
    "\n"
   ],
   "metadata": {
    "colab_type": "text",
    "id": "oKxdQNaxwoZn"
   }
  },
  {
   "cell_type": "code",
   "execution_count": 15,
   "source": [],
   "outputs": [],
   "metadata": {
    "colab": {},
    "colab_type": "code",
    "id": "dQIOG4_9voJA"
   }
  }
 ],
 "metadata": {
  "colab": {
   "name": "1_NB_Classifier_Whether.ipynb",
   "provenance": []
  },
  "kernelspec": {
   "display_name": "Python 3 (ipykernel)",
   "language": "python",
   "name": "python3"
  },
  "language_info": {
   "codemirror_mode": {
    "name": "ipython",
    "version": 3
   },
   "file_extension": ".py",
   "mimetype": "text/x-python",
   "name": "python",
   "nbconvert_exporter": "python",
   "pygments_lexer": "ipython3",
   "version": "3.9.6"
  }
 },
 "nbformat": 4,
 "nbformat_minor": 1
}