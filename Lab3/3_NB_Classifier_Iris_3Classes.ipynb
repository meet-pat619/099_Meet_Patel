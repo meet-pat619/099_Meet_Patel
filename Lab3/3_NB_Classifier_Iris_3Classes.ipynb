{
 "cells": [
  {
   "cell_type": "code",
   "execution_count": 2,
   "source": [
    "#Import scikit-learn dataset library\r\n",
    "from sklearn import datasets\r\n",
    "from sklearn.naive_bayes import GaussianNB\r\n",
    "\r\n",
    "#Load dataset\r\n",
    "iris = datasets.load_iris()"
   ],
   "outputs": [],
   "metadata": {
    "colab": {},
    "colab_type": "code",
    "id": "Li0YgI3Mx9QO"
   }
  },
  {
   "cell_type": "code",
   "execution_count": 4,
   "source": [
    "print(\"Features: \", iris.feature_names)\r\n",
    "\r\n",
    "print(\"Labels: \", iris.target_names)\r\n",
    "\r\n",
    "# print data(feature)shape\r\n",
    "iris.data.shape"
   ],
   "outputs": [
    {
     "output_type": "stream",
     "name": "stdout",
     "text": [
      "Features:  ['sepal length (cm)', 'sepal width (cm)', 'petal length (cm)', 'petal width (cm)']\n",
      "Labels:  ['setosa' 'versicolor' 'virginica']\n"
     ]
    },
    {
     "output_type": "execute_result",
     "data": {
      "text/plain": [
       "(150, 4)"
      ]
     },
     "metadata": {},
     "execution_count": 4
    }
   ],
   "metadata": {
    "colab": {
     "base_uri": "https://localhost:8080/",
     "height": 69
    },
    "colab_type": "code",
    "executionInfo": {
     "elapsed": 2142,
     "status": "ok",
     "timestamp": 1595225277204,
     "user": {
      "displayName": "Hariom Pandya",
      "photoUrl": "https://lh3.googleusercontent.com/a-/AOh14Gg8d7lqNqBxgfXVdhraKxXVYdefhGJQ6fR34vxZkw=s64",
      "userId": "14308869011554137018"
     },
     "user_tz": -330
    },
    "id": "wFNvVIhjx9Qq",
    "outputId": "fee1ba03-b925-4889-c421-76ba66433bf6"
   }
  },
  {
   "cell_type": "code",
   "execution_count": null,
   "source": [
    "#import the necessary module\r\n",
    "from sklearn.model_selection import train_test_split\r\n",
    "\r\n",
    "#split data set into train and test sets\r\n",
    "data_train, data_test, target_train, target_test = train_test_split(iris.data,\r\n",
    "                        iris.target, test_size = 0.30, random_state = 99)"
   ],
   "outputs": [],
   "metadata": {
    "colab": {},
    "colab_type": "code",
    "id": "3Ru1sRBzx9RQ"
   }
  },
  {
   "cell_type": "code",
   "execution_count": null,
   "source": [
    "import numpy as np\r\n",
    "gnb = GaussianNB()\r\n",
    "\r\n",
    "#Train the model using the training sets\r\n",
    "gnb.fit(data_train, target_train)\r\n",
    "\r\n",
    "#Predict the response for test dataset\r\n",
    "target_pred = gnb.predict(data_test)"
   ],
   "outputs": [],
   "metadata": {
    "colab": {},
    "colab_type": "code",
    "id": "A3p9iuf4x9Rs"
   }
  },
  {
   "cell_type": "code",
   "execution_count": null,
   "source": [
    "#Import scikit-learn metrics module for accuracy calculation\n",
    "from sklearn import metrics\n",
    "\n",
    "# Model Accuracy, how often is the classifier correct?\n",
    "print(\"Accuracy:\",metrics.accuracy_score(target_test, target_pred))"
   ],
   "outputs": [
    {
     "output_type": "stream",
     "name": "stdout",
     "text": [
      "Accuracy: 1.0\n"
     ]
    }
   ],
   "metadata": {
    "colab": {
     "base_uri": "https://localhost:8080/",
     "height": 34
    },
    "colab_type": "code",
    "executionInfo": {
     "elapsed": 2109,
     "status": "ok",
     "timestamp": 1595225277213,
     "user": {
      "displayName": "Hariom Pandya",
      "photoUrl": "https://lh3.googleusercontent.com/a-/AOh14Gg8d7lqNqBxgfXVdhraKxXVYdefhGJQ6fR34vxZkw=s64",
      "userId": "14308869011554137018"
     },
     "user_tz": -330
    },
    "id": "mZu4XlvEx9SB",
    "outputId": "539931c2-c050-421d-c6c3-a5ff45af1dba"
   }
  },
  {
   "cell_type": "code",
   "execution_count": null,
   "source": [
    "#Import confusion_matrix from scikit-learn metrics module for confusion_matrix\n",
    "from sklearn.metrics import confusion_matrix\n",
    "confusion_matrix(target_test, target_pred)"
   ],
   "outputs": [
    {
     "output_type": "execute_result",
     "data": {
      "text/plain": [
       "array([[14,  0,  0],\n",
       "       [ 0, 17,  0],\n",
       "       [ 0,  0, 14]])"
      ]
     },
     "metadata": {
      "tags": []
     },
     "execution_count": 6
    }
   ],
   "metadata": {
    "colab": {
     "base_uri": "https://localhost:8080/",
     "height": 69
    },
    "colab_type": "code",
    "executionInfo": {
     "elapsed": 1704,
     "status": "ok",
     "timestamp": 1595225278737,
     "user": {
      "displayName": "Hariom Pandya",
      "photoUrl": "https://lh3.googleusercontent.com/a-/AOh14Gg8d7lqNqBxgfXVdhraKxXVYdefhGJQ6fR34vxZkw=s64",
      "userId": "14308869011554137018"
     },
     "user_tz": -330
    },
    "id": "jIbxl4Vgx9SX",
    "outputId": "2cf4e6fc-2208-4009-b9da-32d2466a5c3b"
   }
  },
  {
   "cell_type": "code",
   "execution_count": null,
   "source": [
    "from sklearn.metrics import precision_score\n",
    "from sklearn.metrics import recall_score\n",
    "\n",
    "precision = precision_score(target_test, target_pred, average=None)\n",
    "recall = recall_score(target_test, target_pred, average=None)\n",
    "\n",
    "print('precision: {}'.format(precision))\n",
    "print('recall: {}'.format(recall))"
   ],
   "outputs": [
    {
     "output_type": "stream",
     "name": "stdout",
     "text": [
      "precision: [1. 1. 1.]\n",
      "recall: [1. 1. 1.]\n"
     ]
    }
   ],
   "metadata": {
    "colab": {
     "base_uri": "https://localhost:8080/",
     "height": 52
    },
    "colab_type": "code",
    "executionInfo": {
     "elapsed": 896,
     "status": "ok",
     "timestamp": 1595225280586,
     "user": {
      "displayName": "Hariom Pandya",
      "photoUrl": "https://lh3.googleusercontent.com/a-/AOh14Gg8d7lqNqBxgfXVdhraKxXVYdefhGJQ6fR34vxZkw=s64",
      "userId": "14308869011554137018"
     },
     "user_tz": -330
    },
    "id": "H9QL1sbVx9Ss",
    "outputId": "6d864321-1d01-4d2f-c379-2624bb2a436e"
   }
  },
  {
   "cell_type": "markdown",
   "source": [
    "**Exercise:**\n",
    "\n",
    "**1) 1<=Rollnumber<=25:**\n",
    "  #Task 1: Try the algo on Dataset1 - OneHotEncoding of features: and Train test Division 70%-30%\n",
    "\n",
    "  #Task 2: Apply algorithm on digits dataset - LabelEncoding of features: and Train test Division 80%-20%\n",
    "\n",
    "**2) 26<=Rollnumber<=50:**\n",
    "  #Task 1: Try the algo on Dataset1 - LabelEncoding of features: and Train test Division 80%-20%\n",
    "\n",
    "   #Task 2: Apply algorithm on breast cancer wisconsin dataset - One Hot Encoding of features: and Train test Division 60%-40%\n",
    "\n",
    "**3) 51<=Rollnumber<=75:**\n",
    "  #Task 1: Try the algo on Dataset2 - LabelEncoding of features: and Train test Division 90%-10%\n",
    "\n",
    "  #Task 2: Apply algorithm on digits dataset - One Hot Encoding of features: and Train test Division 65%-35%\n",
    "\n",
    "**4) 76<=Rollnumber<=100:**\n",
    "  #Task 1: Try the algo on Dataset2 - OneHotEncoding of features: and Train test Division 75%-25%\n",
    "  #Task 2: Apply algorithm on wine dataset - LabelEncoding of features: and Train test Division 80%-20%\n",
    "\n",
    "**5) 101<=Rollnumber<=125:**\n",
    "  #Task 1: Try the algo on Dataset3 - OneHotEncoding of features:and Train test Division 85%-15%\n",
    " #Task 2: Apply algorithm on wine dataset - LabelEncoding of features: and Train test Division 66%-34%\n",
    "\n",
    "**6) 126<=Rollnumber + All with No RollNumbers:**\n",
    "  #Task 1: Try the algo on Dataset3 - LabelEncoding of features:and Train test Division 95%-5%\n",
    "  \n",
    " #Task 2: Apply algorithm on breast cancer wisconsin dataset - One Hot Encoding of features: and Train test Division 50%-50%\n",
    "\n",
    "\n",
    "\n",
    "**Instruction for Task-1 & 2:**\n",
    "\n",
    "i) Set Random state of model equals to your roll number (or last 2 digit of your id -if you don't have roll number)\n",
    "\n",
    "\n",
    "**Questions: For Task - 1**\n",
    "\n",
    "(1) What will be the value of Play, if Outlook is ’Rainy’, Temperature is ’Mild’, Humidity =’Normal’, and Wind = ’False’?\n",
    "\n",
    "(2) What will be the value of Play, if Outlook is ’Sunny’, Temeprature is ’Cool’, Humidity =’High’, and Wind = ’True’?\n",
    "\n",
    "(3) Accuracy , precision and recall of both Models?\n"
   ],
   "metadata": {
    "colab_type": "text",
    "id": "tXl-F2zM5TIX"
   }
  },
  {
   "cell_type": "code",
   "execution_count": null,
   "source": [],
   "outputs": [],
   "metadata": {
    "colab": {},
    "colab_type": "code",
    "id": "CjkVcUZ_x9S6"
   }
  }
 ],
 "metadata": {
  "colab": {
   "name": "NB_Classifier_Iris_3Classes.ipynb",
   "provenance": []
  },
  "kernelspec": {
   "display_name": "Python 3",
   "language": "python",
   "name": "python3"
  },
  "language_info": {
   "codemirror_mode": {
    "name": "ipython",
    "version": 3
   },
   "file_extension": ".py",
   "mimetype": "text/x-python",
   "name": "python",
   "nbconvert_exporter": "python",
   "pygments_lexer": "ipython3",
   "version": "3.6.9"
  }
 },
 "nbformat": 4,
 "nbformat_minor": 1
}