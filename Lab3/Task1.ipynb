{
 "cells": [
  {
   "cell_type": "markdown",
   "source": [
    "Task 1: Try the algo on Dataset2 - OneHotEncoding of features and Train test Division 75%-25%"
   ],
   "metadata": {}
  },
  {
   "cell_type": "code",
   "execution_count": 19,
   "source": [
    "import numpy as np \r\n",
    "import pandas as pd\r\n",
    "from sklearn.preprocessing import LabelEncoder,OneHotEncoder\r\n",
    "\r\n",
    "data = pd.read_csv(\"PracticeDataSets/Dataset2.csv\")\r\n",
    "print(data)"
   ],
   "outputs": [
    {
     "output_type": "stream",
     "name": "stdout",
     "text": [
      "   Outlook Temp Wind Humidity Class\n",
      "0        R    H    F   Normal     N\n",
      "1        R    H    T     High     N\n",
      "2        O    H    F   Normal     Y\n",
      "3        S    M    F   Normal     N\n",
      "4        S    M    F   Normal     Y\n",
      "5        S    M    T      Low     Y\n",
      "6        O    C    T   Normal     Y\n",
      "7        R    C    F   Normal     Y\n",
      "8        R    C    F      Low     Y\n",
      "9        S    M    F     High     Y\n",
      "10       R    M    T     High     Y\n",
      "11       O    M    T      Low     Y\n",
      "12       O    H    F   Normal     Y\n",
      "13       S    M    T   Normal     N\n"
     ]
    }
   ],
   "metadata": {}
  },
  {
   "cell_type": "code",
   "execution_count": 20,
   "source": [
    "dummy_humidity = pd.get_dummies(data['Humidity'])\r\n",
    "# print(\"\\n\\nDummy :\\n\",dummy)\r\n",
    "data = data.drop(['Humidity'],axis=1)\r\n",
    "data = pd.concat([dummy_humidity,data],axis=1)\r\n",
    "\r\n",
    "dummy_wind = pd.get_dummies(data['Wind'])\r\n",
    "# print(\"\\n\\nDummy :\\n\",dummy)\r\n",
    "data = data.drop(['Wind'],axis=1)\r\n",
    "data = pd.concat([dummy_wind,data],axis=1)\r\n",
    "# print(\"\\n\\nFinal Data :\\n\",data)\r\n",
    "\r\n",
    "dummy_temp = pd.get_dummies(data['Temp'])\r\n",
    "# print(\"\\n\\nDummy :\\n\",dummy)\r\n",
    "data = data.drop(['Temp'],axis=1)\r\n",
    "data = pd.concat([dummy_temp,data],axis=1)\r\n",
    "# print(\"\\n\\nFinal Data :\\n\",data)\r\n",
    "\r\n",
    "dummy_outlook = pd.get_dummies(data['Outlook'])\r\n",
    "# print(\"\\n\\nDummy :\\n\",dummy)\r\n",
    "data = data.drop(['Outlook'],axis=1)\r\n",
    "data = pd.concat([dummy_outlook,data],axis=1)\r\n",
    "# print(\"\\n\\nFinal Data :\\n\",data)\r\n",
    "\r\n",
    "print(\"\\n\\nFinal Data :\\n\",data)"
   ],
   "outputs": [
    {
     "output_type": "stream",
     "name": "stdout",
     "text": [
      "\n",
      "\n",
      "Final Data :\n",
      "     O  R  S  C  H  M  F  T  High  Low  Normal Class\n",
      "0   0  1  0  0  1  0  1  0     0    0       1     N\n",
      "1   0  1  0  0  1  0  0  1     1    0       0     N\n",
      "2   1  0  0  0  1  0  1  0     0    0       1     Y\n",
      "3   0  0  1  0  0  1  1  0     0    0       1     N\n",
      "4   0  0  1  0  0  1  1  0     0    0       1     Y\n",
      "5   0  0  1  0  0  1  0  1     0    1       0     Y\n",
      "6   1  0  0  1  0  0  0  1     0    0       1     Y\n",
      "7   0  1  0  1  0  0  1  0     0    0       1     Y\n",
      "8   0  1  0  1  0  0  1  0     0    1       0     Y\n",
      "9   0  0  1  0  0  1  1  0     1    0       0     Y\n",
      "10  0  1  0  0  0  1  0  1     1    0       0     Y\n",
      "11  1  0  0  0  0  1  0  1     0    1       0     Y\n",
      "12  1  0  0  0  1  0  1  0     0    0       1     Y\n",
      "13  0  0  1  0  0  1  0  1     0    0       1     N\n"
     ]
    }
   ],
   "metadata": {}
  },
  {
   "cell_type": "code",
   "execution_count": 21,
   "source": [
    "X = data.iloc[:, :-1] \r\n",
    "\r\n",
    "Y = data.iloc[:, -1] \r\n",
    "\r\n",
    "\r\n",
    "print(\"\\n\\nData : \\n\", X) \r\n",
    "print(\"\\n\\nTarget: \\n\", Y) "
   ],
   "outputs": [
    {
     "output_type": "stream",
     "name": "stdout",
     "text": [
      "\n",
      "\n",
      "Data : \n",
      "     O  R  S  C  H  M  F  T  High  Low  Normal\n",
      "0   0  1  0  0  1  0  1  0     0    0       1\n",
      "1   0  1  0  0  1  0  0  1     1    0       0\n",
      "2   1  0  0  0  1  0  1  0     0    0       1\n",
      "3   0  0  1  0  0  1  1  0     0    0       1\n",
      "4   0  0  1  0  0  1  1  0     0    0       1\n",
      "5   0  0  1  0  0  1  0  1     0    1       0\n",
      "6   1  0  0  1  0  0  0  1     0    0       1\n",
      "7   0  1  0  1  0  0  1  0     0    0       1\n",
      "8   0  1  0  1  0  0  1  0     0    1       0\n",
      "9   0  0  1  0  0  1  1  0     1    0       0\n",
      "10  0  1  0  0  0  1  0  1     1    0       0\n",
      "11  1  0  0  0  0  1  0  1     0    1       0\n",
      "12  1  0  0  0  1  0  1  0     0    0       1\n",
      "13  0  0  1  0  0  1  0  1     0    0       1\n",
      "\n",
      "\n",
      "Target: \n",
      " 0     N\n",
      "1     N\n",
      "2     Y\n",
      "3     N\n",
      "4     Y\n",
      "5     Y\n",
      "6     Y\n",
      "7     Y\n",
      "8     Y\n",
      "9     Y\n",
      "10    Y\n",
      "11    Y\n",
      "12    Y\n",
      "13    N\n",
      "Name: Class, dtype: object\n"
     ]
    }
   ],
   "metadata": {}
  },
  {
   "cell_type": "code",
   "execution_count": 22,
   "source": [
    "from sklearn.model_selection import train_test_split\r\n",
    "\r\n",
    "#split data set into train and test sets\r\n",
    "data_train, data_test, target_train, target_test = train_test_split(X,Y, test_size = 0.25, random_state = 99)"
   ],
   "outputs": [],
   "metadata": {}
  },
  {
   "cell_type": "code",
   "execution_count": 23,
   "source": [
    "import numpy as np\r\n",
    "from sklearn.naive_bayes import GaussianNB\r\n",
    "\r\n",
    "gnb = GaussianNB()\r\n",
    "\r\n",
    "#Train the model using the training sets\r\n",
    "gnb.fit(data_train, target_train)\r\n",
    "\r\n",
    "#Predict the response for test dataset\r\n",
    "target_pred = gnb.predict(data_test)"
   ],
   "outputs": [],
   "metadata": {}
  },
  {
   "cell_type": "code",
   "execution_count": 24,
   "source": [
    "#Import scikit-learn metrics module for accuracy calculation\r\n",
    "from sklearn import metrics\r\n",
    "\r\n",
    "# Model Accuracy, how often is the classifier correct?\r\n",
    "print(\"Accuracy:\",metrics.accuracy_score(target_test, target_pred))"
   ],
   "outputs": [
    {
     "output_type": "stream",
     "name": "stdout",
     "text": [
      "Accuracy: 0.5\n"
     ]
    }
   ],
   "metadata": {}
  },
  {
   "cell_type": "code",
   "execution_count": 25,
   "source": [
    "#Import confusion_matrix from scikit-learn metrics module for confusion_matrix\r\n",
    "from sklearn.metrics import confusion_matrix\r\n",
    "confusion_matrix(target_test, target_pred)"
   ],
   "outputs": [
    {
     "output_type": "execute_result",
     "data": {
      "text/plain": [
       "array([[0, 0],\n",
       "       [2, 2]], dtype=int64)"
      ]
     },
     "metadata": {},
     "execution_count": 25
    }
   ],
   "metadata": {}
  },
  {
   "cell_type": "code",
   "execution_count": 26,
   "source": [
    "from sklearn.metrics import precision_score\r\n",
    "from sklearn.metrics import recall_score\r\n",
    "\r\n",
    "precision = precision_score(target_test, target_pred, average=None)\r\n",
    "recall = recall_score(target_test, target_pred, average=None)\r\n",
    "\r\n",
    "print('precision: {}'.format(precision))\r\n",
    "print('recall: {}'.format(recall))"
   ],
   "outputs": [
    {
     "output_type": "stream",
     "name": "stdout",
     "text": [
      "precision: [0. 1.]\n",
      "recall: [0.  0.5]\n"
     ]
    },
    {
     "output_type": "stream",
     "name": "stderr",
     "text": [
      "c:\\users\\meet1\\appdata\\local\\programs\\python\\python39\\lib\\site-packages\\sklearn\\metrics\\_classification.py:1248: UndefinedMetricWarning: Recall is ill-defined and being set to 0.0 in labels with no true samples. Use `zero_division` parameter to control this behavior.\n",
      "  _warn_prf(average, modifier, msg_start, len(result))\n"
     ]
    }
   ],
   "metadata": {}
  },
  {
   "cell_type": "code",
   "execution_count": 9,
   "source": [
    "q1 = [0, 1, 0, 0, 0, 1, 1, 0, 0, 0, 1]\r\n",
    "q2 = [0, 0, 1, 1, 0, 0, 0, 1, 1, 0, 0]"
   ],
   "outputs": [],
   "metadata": {}
  },
  {
   "cell_type": "code",
   "execution_count": 10,
   "source": [
    "features = X.columns.tolist()\r\n",
    "print(features)\r\n",
    "df = pd.DataFrame([q1,q2], columns = features)\r\n",
    "df.head()"
   ],
   "outputs": [
    {
     "output_type": "stream",
     "name": "stdout",
     "text": [
      "['O', 'R', 'S', 'C', 'H', 'M', 'F', 'T', 'High', 'Low', 'Normal']\n"
     ]
    },
    {
     "output_type": "execute_result",
     "data": {
      "text/html": [
       "<div>\n",
       "<style scoped>\n",
       "    .dataframe tbody tr th:only-of-type {\n",
       "        vertical-align: middle;\n",
       "    }\n",
       "\n",
       "    .dataframe tbody tr th {\n",
       "        vertical-align: top;\n",
       "    }\n",
       "\n",
       "    .dataframe thead th {\n",
       "        text-align: right;\n",
       "    }\n",
       "</style>\n",
       "<table border=\"1\" class=\"dataframe\">\n",
       "  <thead>\n",
       "    <tr style=\"text-align: right;\">\n",
       "      <th></th>\n",
       "      <th>O</th>\n",
       "      <th>R</th>\n",
       "      <th>S</th>\n",
       "      <th>C</th>\n",
       "      <th>H</th>\n",
       "      <th>M</th>\n",
       "      <th>F</th>\n",
       "      <th>T</th>\n",
       "      <th>High</th>\n",
       "      <th>Low</th>\n",
       "      <th>Normal</th>\n",
       "    </tr>\n",
       "  </thead>\n",
       "  <tbody>\n",
       "    <tr>\n",
       "      <th>0</th>\n",
       "      <td>0</td>\n",
       "      <td>1</td>\n",
       "      <td>0</td>\n",
       "      <td>0</td>\n",
       "      <td>0</td>\n",
       "      <td>1</td>\n",
       "      <td>1</td>\n",
       "      <td>0</td>\n",
       "      <td>0</td>\n",
       "      <td>0</td>\n",
       "      <td>1</td>\n",
       "    </tr>\n",
       "    <tr>\n",
       "      <th>1</th>\n",
       "      <td>0</td>\n",
       "      <td>0</td>\n",
       "      <td>1</td>\n",
       "      <td>1</td>\n",
       "      <td>0</td>\n",
       "      <td>0</td>\n",
       "      <td>0</td>\n",
       "      <td>1</td>\n",
       "      <td>1</td>\n",
       "      <td>0</td>\n",
       "      <td>0</td>\n",
       "    </tr>\n",
       "  </tbody>\n",
       "</table>\n",
       "</div>"
      ],
      "text/plain": [
       "   O  R  S  C  H  M  F  T  High  Low  Normal\n",
       "0  0  1  0  0  0  1  1  0     0    0       1\n",
       "1  0  0  1  1  0  0  0  1     1    0       0"
      ]
     },
     "metadata": {},
     "execution_count": 10
    }
   ],
   "metadata": {}
  },
  {
   "cell_type": "code",
   "execution_count": 12,
   "source": [
    "output = gnb.predict(df)\r\n",
    "print(\"Class predicted:\\nq1: {}\\nq2: {}\".format(output[0],output[1]))"
   ],
   "outputs": [
    {
     "output_type": "stream",
     "name": "stdout",
     "text": [
      "Class predicted:\n",
      "q1: N\n",
      "q2: N\n"
     ]
    }
   ],
   "metadata": {}
  },
  {
   "cell_type": "code",
   "execution_count": null,
   "source": [],
   "outputs": [],
   "metadata": {}
  }
 ],
 "metadata": {
  "kernelspec": {
   "display_name": "Python 3 (ipykernel)",
   "language": "python",
   "name": "python3"
  },
  "language_info": {
   "codemirror_mode": {
    "name": "ipython",
    "version": 3
   },
   "file_extension": ".py",
   "mimetype": "text/x-python",
   "name": "python",
   "nbconvert_exporter": "python",
   "pygments_lexer": "ipython3",
   "version": "3.9.6"
  }
 },
 "nbformat": 4,
 "nbformat_minor": 5
}