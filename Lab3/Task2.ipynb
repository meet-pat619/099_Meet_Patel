{
 "cells": [
  {
   "cell_type": "markdown",
   "source": [
    "Task 2: Apply algorithm on wine dataset -  LabelEncoding of features: and Train test Division 80%-20%"
   ],
   "metadata": {}
  },
  {
   "cell_type": "code",
   "execution_count": 2,
   "source": [
    "from sklearn import preprocessing\r\n",
    "from sklearn.naive_bayes import GaussianNB\r\n",
    "from sklearn.datasets import load_wine\r\n",
    "\r\n",
    "wine = load_wine()"
   ],
   "outputs": [],
   "metadata": {}
  },
  {
   "cell_type": "code",
   "execution_count": 6,
   "source": [
    "print(\"Features: \", wine.feature_names)\r\n",
    "\r\n",
    "print(\"Labels: \", wine.target_names)\r\n",
    "\r\n",
    "wine.data.shape"
   ],
   "outputs": [
    {
     "output_type": "stream",
     "name": "stdout",
     "text": [
      "Features:  ['alcohol', 'malic_acid', 'ash', 'alcalinity_of_ash', 'magnesium', 'total_phenols', 'flavanoids', 'nonflavanoid_phenols', 'proanthocyanins', 'color_intensity', 'hue', 'od280/od315_of_diluted_wines', 'proline']\n",
      "Labels:  ['class_0' 'class_1' 'class_2']\n"
     ]
    },
    {
     "output_type": "execute_result",
     "data": {
      "text/plain": [
       "(178, 13)"
      ]
     },
     "metadata": {},
     "execution_count": 6
    }
   ],
   "metadata": {}
  },
  {
   "cell_type": "code",
   "execution_count": 3,
   "source": [
    "#import the necessary module\r\n",
    "from sklearn.model_selection import train_test_split\r\n",
    "\r\n",
    "#split data set into train and test sets\r\n",
    "data_train, data_test, target_train, target_test = train_test_split(wine.data,\r\n",
    "                        wine.target, test_size = 0.20, random_state = 99)"
   ],
   "outputs": [],
   "metadata": {}
  },
  {
   "cell_type": "code",
   "execution_count": 4,
   "source": [
    "import numpy as np\r\n",
    "gnb = GaussianNB()\r\n",
    "\r\n",
    "#Train the model using the training sets\r\n",
    "gnb.fit(data_train, target_train)\r\n",
    "\r\n",
    "#Predict the response for test dataset\r\n",
    "target_pred = gnb.predict(data_test)"
   ],
   "outputs": [],
   "metadata": {}
  },
  {
   "cell_type": "code",
   "execution_count": 5,
   "source": [
    "#Import scikit-learn metrics module for accuracy calculation\r\n",
    "from sklearn import metrics\r\n",
    "\r\n",
    "# Model Accuracy, how often is the classifier correct?\r\n",
    "print(\"Accuracy:\",metrics.accuracy_score(target_test, target_pred))"
   ],
   "outputs": [
    {
     "output_type": "stream",
     "name": "stdout",
     "text": [
      "Accuracy: 0.9444444444444444\n"
     ]
    }
   ],
   "metadata": {}
  },
  {
   "cell_type": "code",
   "execution_count": 6,
   "source": [
    "#Import confusion_matrix from scikit-learn metrics module for confusion_matrix\r\n",
    "from sklearn.metrics import confusion_matrix\r\n",
    "confusion_matrix(target_test, target_pred)"
   ],
   "outputs": [
    {
     "output_type": "execute_result",
     "data": {
      "text/plain": [
       "array([[13,  0,  0],\n",
       "       [ 1, 13,  1],\n",
       "       [ 0,  0,  8]])"
      ]
     },
     "metadata": {},
     "execution_count": 6
    }
   ],
   "metadata": {}
  },
  {
   "cell_type": "code",
   "execution_count": 7,
   "source": [
    "from sklearn.metrics import precision_score\r\n",
    "from sklearn.metrics import recall_score\r\n",
    "\r\n",
    "precision = precision_score(target_test, target_pred, average=None)\r\n",
    "recall = recall_score(target_test, target_pred, average=None)\r\n",
    "\r\n",
    "print('precision: {}'.format(precision))\r\n",
    "print('recall: {}'.format(recall))"
   ],
   "outputs": [
    {
     "output_type": "stream",
     "name": "stdout",
     "text": [
      "precision: [0.92857143 1.         0.88888889]\n",
      "recall: [1.         0.86666667 1.        ]\n"
     ]
    }
   ],
   "metadata": {}
  },
  {
   "cell_type": "code",
   "execution_count": null,
   "source": [],
   "outputs": [],
   "metadata": {}
  }
 ],
 "metadata": {
  "kernelspec": {
   "display_name": "Python 3",
   "language": "python",
   "name": "python3"
  },
  "language_info": {
   "codemirror_mode": {
    "name": "ipython",
    "version": 3
   },
   "file_extension": ".py",
   "mimetype": "text/x-python",
   "name": "python",
   "nbconvert_exporter": "python",
   "pygments_lexer": "ipython3",
   "version": "3.6.9"
  }
 },
 "nbformat": 4,
 "nbformat_minor": 5
}