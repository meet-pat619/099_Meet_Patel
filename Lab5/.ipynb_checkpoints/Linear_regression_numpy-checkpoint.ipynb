{
 "cells": [
  {
   "cell_type": "code",
   "execution_count": 1,
   "metadata": {
    "_cell_guid": "79c7e3d0-c299-4dcb-8224-4455121ee9b0",
    "_uuid": "d629ff2d2480ee46fbb7e2d37f6b5fab8052498a",
    "id": "v0BtAX1--7l_"
   },
   "outputs": [],
   "source": [
    "import numpy as np"
   ]
  },
  {
   "cell_type": "markdown",
   "metadata": {},
   "source": [
    "## Training Data"
   ]
  },
  {
   "cell_type": "code",
   "execution_count": 2,
   "metadata": {
    "_uuid": "74bb18bd01ac809079eeb8d05695206e8ba02069",
    "id": "wCsxgTWO-7uM"
   },
   "outputs": [],
   "source": [
    "# Input (temp, rainfall, humidity)\n",
    "inputs = np.array([[73, 67, 43], [91, 88, 64], [87, 134, 58], [102, 43, 37], [69, 96, 70], [73, 67, 43], [91, 88, 64], [87, 134, 58], [102, 43, 37], [69, 96, 70], [73, 67, 43], [91, 88, 64], [87, 134, 58], [102, 43, 37], [69, 96, 70]], dtype='float32')\n",
    "# Targets (apples, oranges)\n",
    "targets = np.array([[56, 70], [81, 101], [119, 133], [22, 37], [103, 119], \n",
    "                    [56, 70], [81, 101], [119, 133], [22, 37], [103, 119], \n",
    "                    [56, 70], [81, 101], [119, 133], [22, 37], [103, 119]], dtype='float32')\n",
    "\n",
    "x_shape = inputs.shape"
   ]
  },
  {
   "cell_type": "code",
   "execution_count": 3,
   "metadata": {},
   "outputs": [
    {
     "name": "stdout",
     "output_type": "stream",
     "text": [
      "[[0.20714824 0.83889031 0.53924143]\n",
      " [0.11997732 0.25368026 0.49799936]]\n",
      "[[0.9248412  0.23961953]\n",
      " [0.9253461  0.51553744]\n",
      " [0.64910425 0.96592362]\n",
      " [0.62560711 0.6193432 ]\n",
      " [0.26837701 0.1313738 ]\n",
      " [0.96207237 0.9922979 ]\n",
      " [0.30637753 0.73313817]\n",
      " [0.78736918 0.71968166]\n",
      " [0.27071224 0.80383535]\n",
      " [0.18017814 0.35877707]\n",
      " [0.22453968 0.37477471]\n",
      " [0.69722525 0.38711705]\n",
      " [0.24127148 0.65115934]\n",
      " [0.89396846 0.29943975]\n",
      " [0.38269009 0.03450769]]\n"
     ]
    }
   ],
   "source": [
    "# weights and biases\n",
    "weights = np.random.rand(2,3)\n",
    "biases = np.random.rand(15,2)\n",
    "print(weights)\n",
    "print(biases)"
   ]
  },
  {
   "cell_type": "code",
   "execution_count": 4,
   "metadata": {},
   "outputs": [],
   "source": [
    "# Define the model\n",
    "def model(x):\n",
    "    return x @ np.transpose(weights) + biases"
   ]
  },
  {
   "cell_type": "code",
   "execution_count": 5,
   "metadata": {},
   "outputs": [],
   "source": [
    "# Generate predictions\n",
    "preds = model(inputs)\n"
   ]
  },
  {
   "cell_type": "code",
   "execution_count": 6,
   "metadata": {},
   "outputs": [
    {
     "name": "stdout",
     "output_type": "stream",
     "text": [
      "Predictions :  [[ 95.4396954   47.40851359]\n",
      " [128.10963528  65.62929524]\n",
      " [162.35830625  74.28106786]\n",
      " [ 77.77894428  42.19125709]\n",
      " [132.84197592  67.62306887]\n",
      " [ 95.47692657  48.16119196]\n",
      " [127.49066671  65.84689598]\n",
      " [162.49657117  74.0348259 ]\n",
      " [ 77.42404941  42.37574924]\n",
      " [132.75377705  67.85047214]\n",
      " [ 94.73939388  47.54366877]\n",
      " [127.88151443  65.50087486]\n",
      " [161.95047347  73.96630359]\n",
      " [ 78.04730563  41.87135364]\n",
      " [132.956289    67.52620276]]\n",
      "Targets :  [[ 56.  70.]\n",
      " [ 81. 101.]\n",
      " [119. 133.]\n",
      " [ 22.  37.]\n",
      " [103. 119.]\n",
      " [ 56.  70.]\n",
      " [ 81. 101.]\n",
      " [119. 133.]\n",
      " [ 22.  37.]\n",
      " [103. 119.]\n",
      " [ 56.  70.]\n",
      " [ 81. 101.]\n",
      " [119. 133.]\n",
      " [ 22.  37.]\n",
      " [103. 119.]]\n"
     ]
    }
   ],
   "source": [
    "# Compare with targets\n",
    "print(\"Predictions : \", preds)\n",
    "print(\"Targets : \",targets)"
   ]
  },
  {
   "cell_type": "markdown",
   "metadata": {},
   "source": [
    "## Loss function"
   ]
  },
  {
   "cell_type": "code",
   "execution_count": 7,
   "metadata": {},
   "outputs": [],
   "source": [
    "# MSE loss\n",
    "def mse(t1, t2):\n",
    "    diff = t1 - t2\n",
    "    return np.sum(diff * diff) / len(diff)"
   ]
  },
  {
   "cell_type": "code",
   "execution_count": 8,
   "metadata": {},
   "outputs": [
    {
     "name": "stdout",
     "output_type": "stream",
     "text": [
      "3496.0589425246576\n"
     ]
    }
   ],
   "source": [
    "# Compute loss\n",
    "loss = mse(preds, targets)\n",
    "print(loss)"
   ]
  },
  {
   "cell_type": "markdown",
   "metadata": {},
   "source": [
    "## Compute Gradient"
   ]
  },
  {
   "cell_type": "code",
   "execution_count": 10,
   "metadata": {},
   "outputs": [
    {
     "name": "stdout",
     "output_type": "stream",
     "text": [
      "[[ 7453.92285424  7123.737177    4538.08790636]\n",
      " [-5194.20859408 -6881.57103744 -4016.00317956]]\n",
      "[[ 5.25862605 -3.01219819]\n",
      " [ 6.2812847  -4.71609397]\n",
      " [ 5.7811075  -7.82919095]\n",
      " [ 7.43719257  0.69216761]\n",
      " [ 3.97893012 -6.85025748]\n",
      " [ 5.26359021 -2.91184107]\n",
      " [ 6.19875556 -4.68708054]\n",
      " [ 5.79954282 -7.86202321]\n",
      " [ 7.38987326  0.71676656]\n",
      " [ 3.96717027 -6.81993705]\n",
      " [ 5.16525252 -2.9941775 ]\n",
      " [ 6.25086859 -4.73321669]\n",
      " [ 5.7267298  -7.87115952]\n",
      " [ 7.47297408  0.64951382]\n",
      " [ 3.99417187 -6.86317297]]\n"
     ]
    }
   ],
   "source": [
    "# compute gradients\n",
    "biases_grad = (preds-targets)*2/x_shape[0]\n",
    "weights_grad = (np.matmul(np.transpose((preds-targets)),inputs))*2/x_shape[0]\n",
    "\n",
    "print(weights_grad)\n",
    "print(biases_grad)"
   ]
  },
  {
   "cell_type": "markdown",
   "metadata": {},
   "source": [
    "## Adjust weights"
   ]
  },
  {
   "cell_type": "code",
   "execution_count": 11,
   "metadata": {},
   "outputs": [],
   "source": [
    "# Adjust weights\n",
    "weights -= weights_grad * 1e-5\n",
    "biases -= biases_grad * 1e-5"
   ]
  },
  {
   "cell_type": "code",
   "execution_count": 12,
   "metadata": {},
   "outputs": [
    {
     "name": "stdout",
     "output_type": "stream",
     "text": [
      "[[0.13260901 0.76765294 0.49386055]\n",
      " [0.1719194  0.32249597 0.53815939]]\n",
      "[[0.92478862 0.23964966]\n",
      " [0.92528329 0.5155846 ]\n",
      " [0.64904644 0.96600191]\n",
      " [0.62553274 0.61933628]\n",
      " [0.26833722 0.1314423 ]\n",
      " [0.96201974 0.99232702]\n",
      " [0.30631554 0.73318504]\n",
      " [0.78731118 0.71976028]\n",
      " [0.27063835 0.80382818]\n",
      " [0.18013846 0.35884527]\n",
      " [0.22448802 0.37480465]\n",
      " [0.69716274 0.38716438]\n",
      " [0.24121421 0.65123805]\n",
      " [0.89389373 0.29943325]\n",
      " [0.38265015 0.03457632]]\n"
     ]
    }
   ],
   "source": [
    "print(weights)\n",
    "print(biases)"
   ]
  },
  {
   "cell_type": "code",
   "execution_count": 13,
   "metadata": {},
   "outputs": [
    {
     "name": "stdout",
     "output_type": "stream",
     "text": [
      "1709.6222511871476\n"
     ]
    }
   ],
   "source": [
    "# Calculate loss\n",
    "preds = model(inputs)\n",
    "loss = mse(preds, targets)\n",
    "print(loss)"
   ]
  },
  {
   "cell_type": "code",
   "execution_count": 14,
   "metadata": {},
   "outputs": [],
   "source": [
    "for i in range(200):\n",
    "    preds = model(inputs)\n",
    "    loss = mse(preds, targets)\n",
    "    \n",
    "    biases_grad = ((((inputs@np.transpose(weights))+biases)-targets))*2/x_shape[0]\n",
    "    weights_grad = (np.matmul(np.transpose((((inputs@np.transpose(weights))+biases)-targets)),inputs))*2/x_shape[0]\n",
    "\n",
    "    weights -= weights_grad * 1e-5\n",
    "    biases -= biases_grad * 1e-5"
   ]
  },
  {
   "cell_type": "code",
   "execution_count": 15,
   "metadata": {},
   "outputs": [
    {
     "name": "stdout",
     "output_type": "stream",
     "text": [
      "10.989682018747626\n"
     ]
    }
   ],
   "source": [
    "# Calculate loss\n",
    "preds = model(inputs)\n",
    "loss = mse(preds, targets)\n",
    "print(loss)"
   ]
  },
  {
   "cell_type": "code",
   "execution_count": 16,
   "metadata": {},
   "outputs": [
    {
     "name": "stdout",
     "output_type": "stream",
     "text": [
      "[[ 58.04774792  70.67827809]\n",
      " [ 81.52866756  99.69931129]\n",
      " [120.3776872  134.50386988]\n",
      " [ 23.43177231  40.2877592 ]\n",
      " [ 98.5876616  115.32267487]\n",
      " [ 58.08496911  71.43075476]\n",
      " [ 80.90986485  99.91685371]\n",
      " [120.51591508 134.2576939 ]\n",
      " [ 23.07697254  40.47220191]\n",
      " [ 98.49948636 115.5500172 ]\n",
      " [ 57.34763405  70.81339705]\n",
      " [ 81.30060784  99.57092532]\n",
      " [119.96996371 134.18918995]\n",
      " [ 23.70006175  39.96794147]\n",
      " [ 98.70194405 115.22583472]]\n"
     ]
    }
   ],
   "source": [
    "# Print predictions\n",
    "print(preds)"
   ]
  },
  {
   "cell_type": "code",
   "execution_count": 17,
   "metadata": {},
   "outputs": [
    {
     "name": "stdout",
     "output_type": "stream",
     "text": [
      "[[ 56.  70.]\n",
      " [ 81. 101.]\n",
      " [119. 133.]\n",
      " [ 22.  37.]\n",
      " [103. 119.]\n",
      " [ 56.  70.]\n",
      " [ 81. 101.]\n",
      " [119. 133.]\n",
      " [ 22.  37.]\n",
      " [103. 119.]\n",
      " [ 56.  70.]\n",
      " [ 81. 101.]\n",
      " [119. 133.]\n",
      " [ 22.  37.]\n",
      " [103. 119.]]\n"
     ]
    }
   ],
   "source": [
    "# Print targets\n",
    "print(targets)"
   ]
  },
  {
   "cell_type": "code",
   "execution_count": null,
   "metadata": {},
   "outputs": [],
   "source": []
  }
 ],
 "metadata": {
  "colab": {
   "collapsed_sections": [],
   "name": "2-linear-regression-pytorch.ipynb",
   "provenance": []
  },
  "kernelspec": {
   "display_name": "Python 3",
   "language": "python",
   "name": "python3"
  },
  "language_info": {
   "codemirror_mode": {
    "name": "ipython",
    "version": 3
   },
   "file_extension": ".py",
   "mimetype": "text/x-python",
   "name": "python",
   "nbconvert_exporter": "python",
   "pygments_lexer": "ipython3",
   "version": "3.6.9"
  }
 },
 "nbformat": 4,
 "nbformat_minor": 1
}
