{
 "cells": [
  {
   "cell_type": "code",
   "execution_count": 1,
   "metadata": {
    "_cell_guid": "b1076dfc-b9ad-4769-8c92-a6c4dae69d19",
    "_uuid": "8f2839f25d086af736a60e9eeb907d3b93b6e0e5",
    "id": "hfV503AtcBDp"
   },
   "outputs": [],
   "source": [
    "#Importing libraries\n",
    "import numpy as np \n",
    "import pandas as pd \n",
    "import io\n",
    "import matplotlib.pyplot as plt"
   ]
  },
  {
   "cell_type": "code",
   "execution_count": 2,
   "metadata": {
    "_cell_guid": "79c7e3d0-c299-4dcb-8224-4455121ee9b0",
    "_uuid": "d629ff2d2480ee46fbb7e2d37f6b5fab8052498a",
    "colab": {
     "base_uri": "https://localhost:8080/",
     "height": 204
    },
    "id": "Y4rK9ffYcBEP",
    "outputId": "4bdf79c0-27d4-4b7f-e30b-8e0ad6aff7c7"
   },
   "outputs": [
    {
     "data": {
      "text/html": [
       "<div>\n",
       "<style scoped>\n",
       "    .dataframe tbody tr th:only-of-type {\n",
       "        vertical-align: middle;\n",
       "    }\n",
       "\n",
       "    .dataframe tbody tr th {\n",
       "        vertical-align: top;\n",
       "    }\n",
       "\n",
       "    .dataframe thead th {\n",
       "        text-align: right;\n",
       "    }\n",
       "</style>\n",
       "<table border=\"1\" class=\"dataframe\">\n",
       "  <thead>\n",
       "    <tr style=\"text-align: right;\">\n",
       "      <th></th>\n",
       "      <th>Age</th>\n",
       "      <th>EstimatedSalary</th>\n",
       "      <th>Purchased</th>\n",
       "    </tr>\n",
       "  </thead>\n",
       "  <tbody>\n",
       "    <tr>\n",
       "      <th>0</th>\n",
       "      <td>19</td>\n",
       "      <td>19000</td>\n",
       "      <td>0</td>\n",
       "    </tr>\n",
       "    <tr>\n",
       "      <th>1</th>\n",
       "      <td>35</td>\n",
       "      <td>20000</td>\n",
       "      <td>0</td>\n",
       "    </tr>\n",
       "    <tr>\n",
       "      <th>2</th>\n",
       "      <td>26</td>\n",
       "      <td>43000</td>\n",
       "      <td>0</td>\n",
       "    </tr>\n",
       "    <tr>\n",
       "      <th>3</th>\n",
       "      <td>27</td>\n",
       "      <td>57000</td>\n",
       "      <td>0</td>\n",
       "    </tr>\n",
       "    <tr>\n",
       "      <th>4</th>\n",
       "      <td>19</td>\n",
       "      <td>76000</td>\n",
       "      <td>0</td>\n",
       "    </tr>\n",
       "  </tbody>\n",
       "</table>\n",
       "</div>"
      ],
      "text/plain": [
       "   Age  EstimatedSalary  Purchased\n",
       "0   19            19000          0\n",
       "1   35            20000          0\n",
       "2   26            43000          0\n",
       "3   27            57000          0\n",
       "4   19            76000          0"
      ]
     },
     "execution_count": 2,
     "metadata": {},
     "output_type": "execute_result"
    }
   ],
   "source": [
    "# reading the csv file, del 2 columns from the file, checking first few rows of the file\n",
    "# from google.colab import files\n",
    "# uploaded = files.upload()\n",
    "\n",
    "data = pd.read_csv('BuyComputer.csv')\n",
    "\n",
    "data.drop(columns=['User ID',],axis=1,inplace=True)\n",
    "data.head()"
   ]
  },
  {
   "cell_type": "code",
   "execution_count": 3,
   "metadata": {
    "_uuid": "4cb45e28344e7e245ab398e9f4f5272ef21d2129",
    "id": "jwuPgU6_cBE8"
   },
   "outputs": [],
   "source": [
    "#Declare label as last column in the source file\n",
    "Y = data.iloc[:,-1].values"
   ]
  },
  {
   "cell_type": "code",
   "execution_count": 4,
   "metadata": {
    "_uuid": "2e7a145fa49435ad9578ec2827f76a70cc99f2e1",
    "id": "2lhBrOp8cBFX"
   },
   "outputs": [],
   "source": [
    "#Declaring X as all columns excluding last\n",
    "X = data.iloc[:,:-1].values\n"
   ]
  },
  {
   "cell_type": "code",
   "execution_count": 5,
   "metadata": {
    "_uuid": "dffb1f3e19e19964995ac827bf55108b5815ff67",
    "id": "t8nwbTn6cBFp"
   },
   "outputs": [],
   "source": [
    "# Splitting data\n",
    "from sklearn.model_selection import train_test_split\n",
    "X_train, X_test, y_train, y_test = train_test_split(X, Y, test_size = 0.3, random_state = 85 )"
   ]
  },
  {
   "cell_type": "code",
   "execution_count": 8,
   "metadata": {
    "_uuid": "7d4ed14782e114ae3282f20d3754121398e6d232",
    "id": "U4bUiVVFcBGD"
   },
   "outputs": [],
   "source": [
    "# Scaling data\n",
    "from sklearn.preprocessing import StandardScaler\n",
    "sc = StandardScaler()\n",
    "X_train = sc.fit_transform(X_train)\n",
    "X_test = sc.transform(X_test)"
   ]
  },
  {
   "cell_type": "code",
   "execution_count": 9,
   "metadata": {
    "_uuid": "2ff7415e3e0e0673d59051cfe6154c63d3312a32",
    "colab": {
     "base_uri": "https://localhost:8080/"
    },
    "id": "W5yGgzqbcBGc",
    "outputId": "573c7546-19a7-4362-9559-2d008c4279d3"
   },
   "outputs": [
    {
     "name": "stdout",
     "output_type": "stream",
     "text": [
      "2\n"
     ]
    }
   ],
   "source": [
    "#Variabes to calculate sigmoid function\n",
    "y_pred = []\n",
    "len_x = len(X_train[0])\n",
    "w = []\n",
    "b = 0.2\n",
    "print(len_x)"
   ]
  },
  {
   "cell_type": "code",
   "execution_count": 10,
   "metadata": {
    "_uuid": "a228174207f4631be4f26a0cc05e379f3f58aa56",
    "colab": {
     "base_uri": "https://localhost:8080/"
    },
    "id": "ZbqwTM0bcBGr",
    "outputId": "2e3a095f-39e8-4eaa-b090-c5c7b52a4b06"
   },
   "outputs": [
    {
     "data": {
      "text/plain": [
       "280"
      ]
     },
     "execution_count": 10,
     "metadata": {},
     "output_type": "execute_result"
    }
   ],
   "source": [
    "entries = len(X_train[:,0])\n",
    "entries"
   ]
  },
  {
   "cell_type": "code",
   "execution_count": 11,
   "metadata": {
    "_uuid": "5d4d6e47ee65c9c7404e60fcf8f05c11708546b3",
    "colab": {
     "base_uri": "https://localhost:8080/"
    },
    "id": "vEV7Nn73cBG7",
    "outputId": "596e41f9-9528-4656-85af-a14b9acf40f6"
   },
   "outputs": [
    {
     "data": {
      "text/plain": [
       "[0, 0]"
      ]
     },
     "execution_count": 11,
     "metadata": {},
     "output_type": "execute_result"
    }
   ],
   "source": [
    "for weights in range(len_x):\n",
    "    w.append(0)\n",
    "w"
   ]
  },
  {
   "cell_type": "code",
   "execution_count": 12,
   "metadata": {
    "_uuid": "18dbd2196d72527a82d30ab88ed2aa8d10bd01ce",
    "id": "_fAtpylNcBHM"
   },
   "outputs": [],
   "source": [
    "# Sigmoid function\n",
    "def sigmoid(z):\n",
    "  res = (1/(1+np.exp(-z)))\n",
    "  return res"
   ]
  },
  {
   "cell_type": "code",
   "execution_count": 13,
   "metadata": {
    "_uuid": "daa0f87fdbf98591cb9f51b8dc7157dc399ca827",
    "id": "kfchkScTcBHd"
   },
   "outputs": [],
   "source": [
    "def predict(inputs):\n",
    "    z = np.dot(w,inputs)+b\n",
    "    a = sigmoid(z)\n",
    "    return a"
   ]
  },
  {
   "cell_type": "code",
   "execution_count": 14,
   "metadata": {
    "_uuid": "4126f842d072ccd40019cc283b767a014e2ee074",
    "id": "K2ryTgglcBHt"
   },
   "outputs": [],
   "source": [
    "#Loss function\n",
    "def loss_func(y,a):\n",
    "    J = -(y*np.log(a) + (1-y)*np.log(1-a))\n",
    "    return J       "
   ]
  },
  {
   "cell_type": "code",
   "execution_count": 15,
   "metadata": {
    "_uuid": "fc0ceb65c69f4ee0c3f28e050744229dc90c621b",
    "id": "1KW3eDpmcBIA"
   },
   "outputs": [],
   "source": [
    "dw = []\n",
    "db = 0\n",
    "J = 0\n",
    "alpha = 0.1\n",
    "for x in range(len_x):\n",
    "    dw.append(0)"
   ]
  },
  {
   "cell_type": "code",
   "execution_count": 16,
   "metadata": {
    "_uuid": "e4be38e9b500ae0c5a7134296a3055675c4fb2d8",
    "id": "ipqdFLP3cBIO"
   },
   "outputs": [],
   "source": [
    "#Repeating the process 3000 times\n",
    "for iterations in range(3000):\n",
    "    for i in range(entries):\n",
    "        tmp = X_train[i]\n",
    "        a = predict(tmp)   \n",
    "        dz = a - y_train[i]\n",
    "        J += loss_func(y_train[i],a)\n",
    "        for j in range(len_x):\n",
    "            dw[j] = dw[j]+(tmp[j]*dz)\n",
    "        db += dz\n",
    "    J = J/entries\n",
    "    db = db/entries\n",
    "    for x in range(len_x):\n",
    "        dw[x]=dw[x]/entries\n",
    "    for x in range(len_x):\n",
    "        w[x] = w[x]-(alpha*dw[x])\n",
    "    b = b-(alpha*db)         \n",
    "    J=0"
   ]
  },
  {
   "cell_type": "code",
   "execution_count": 17,
   "metadata": {
    "_uuid": "5479ccb6073ed1ea310ef7de01b2935fc3ec400e",
    "colab": {
     "base_uri": "https://localhost:8080/"
    },
    "id": "7Q585AdrcBIs",
    "outputId": "cb5d2930-ba69-4981-d989-56cec4be39b6"
   },
   "outputs": [
    {
     "name": "stdout",
     "output_type": "stream",
     "text": [
      "[2.2796417156687605, 1.0235284018952648]\n"
     ]
    }
   ],
   "source": [
    "#Print weight\n",
    "print(w)"
   ]
  },
  {
   "cell_type": "code",
   "execution_count": 18,
   "metadata": {
    "_uuid": "a939c247b8a092f74c9843975612daa85c423621",
    "colab": {
     "base_uri": "https://localhost:8080/"
    },
    "id": "rEiF-bNHcBJB",
    "outputId": "00850997-48c3-4ea8-dc42-e0a7e42093b7"
   },
   "outputs": [
    {
     "name": "stdout",
     "output_type": "stream",
     "text": [
      "-1.1017002545008894\n"
     ]
    }
   ],
   "source": [
    "#print bias\n",
    "print(b)"
   ]
  },
  {
   "cell_type": "code",
   "execution_count": 19,
   "metadata": {
    "_uuid": "b7ae24169a21c7ac8ea0787f4a38a0de3e07a6b5",
    "id": "MPt5nUcpcBJR"
   },
   "outputs": [],
   "source": [
    "#predicting the label\n",
    "for x in range(len(y_test)):\n",
    "    y_pred.append(predict(X_test[x]))"
   ]
  },
  {
   "cell_type": "code",
   "execution_count": 20,
   "metadata": {
    "_uuid": "967ad1b72305ad792a5d50e4d8b8a07632f7b241",
    "colab": {
     "base_uri": "https://localhost:8080/"
    },
    "id": "79HPPz7jcBJg",
    "outputId": "268b28ce-b2e9-4b79-dfd6-88ed6f73159b",
    "scrolled": false
   },
   "outputs": [
    {
     "name": "stdout",
     "output_type": "stream",
     "text": [
      "Actual  0  Predicted  0.04058857423024296\n",
      "Actual  0  Predicted  0.13136468193599865\n",
      "Actual  1  Predicted  0.4291798353850994\n",
      "Actual  1  Predicted  0.8882144213266063\n",
      "Actual  0  Predicted  0.0040219951053458896\n",
      "Actual  0  Predicted  0.0629715825617682\n",
      "Actual  0  Predicted  0.012632101625694225\n",
      "Actual  1  Predicted  0.4375549871173968\n",
      "Actual  0  Predicted  0.09761273871045685\n",
      "Actual  0  Predicted  0.07364574814815204\n",
      "Actual  0  Predicted  0.01734587146749156\n",
      "Actual  0  Predicted  0.21238140466100258\n",
      "Actual  0  Predicted  0.24945684711997715\n",
      "Actual  0  Predicted  0.004282350152464664\n",
      "Actual  0  Predicted  0.12472297262681396\n",
      "Actual  0  Predicted  0.5774443462212239\n",
      "Actual  0  Predicted  0.03852713212584967\n",
      "Actual  0  Predicted  0.00998339463293766\n",
      "Actual  0  Predicted  0.01358169004841205\n",
      "Actual  1  Predicted  0.7465985391298782\n",
      "Actual  1  Predicted  0.5048174332199834\n",
      "Actual  1  Predicted  0.8397185723825241\n",
      "Actual  0  Predicted  0.008697706556779873\n",
      "Actual  1  Predicted  0.9341765637588116\n",
      "Actual  1  Predicted  0.9961054263088991\n",
      "Actual  0  Predicted  0.25011010159896235\n",
      "Actual  1  Predicted  0.5201172929468446\n",
      "Actual  0  Predicted  0.06794934181232506\n",
      "Actual  0  Predicted  0.3898342794536597\n",
      "Actual  1  Predicted  0.7464112301121506\n",
      "Actual  1  Predicted  0.3353105108560451\n",
      "Actual  1  Predicted  0.9837229575679511\n",
      "Actual  0  Predicted  0.12453281657481066\n",
      "Actual  0  Predicted  0.1926138210833944\n",
      "Actual  1  Predicted  0.6229848206749885\n",
      "Actual  0  Predicted  0.007817744065379864\n",
      "Actual  0  Predicted  0.29205585877267415\n",
      "Actual  0  Predicted  0.23943466549393097\n",
      "Actual  1  Predicted  0.23390294750469978\n",
      "Actual  1  Predicted  0.5944152530696668\n",
      "Actual  0  Predicted  0.528189278136033\n",
      "Actual  1  Predicted  0.990603698998199\n",
      "Actual  0  Predicted  0.1654001398857125\n",
      "Actual  0  Predicted  0.012404407908474618\n",
      "Actual  0  Predicted  0.02767487257927138\n",
      "Actual  1  Predicted  0.8750819882568464\n",
      "Actual  0  Predicted  0.016137409005396824\n",
      "Actual  1  Predicted  0.37782434652166413\n",
      "Actual  1  Predicted  0.8752723992965235\n",
      "Actual  0  Predicted  0.22280611196725264\n",
      "Actual  0  Predicted  0.22280611196725264\n",
      "Actual  0  Predicted  0.007872009870854048\n",
      "Actual  0  Predicted  0.08762103557416273\n",
      "Actual  0  Predicted  0.04138105991823366\n",
      "Actual  1  Predicted  0.9189289831624888\n",
      "Actual  1  Predicted  0.9573853062316113\n",
      "Actual  0  Predicted  0.12810438980105326\n",
      "Actual  0  Predicted  0.005436212737641281\n",
      "Actual  1  Predicted  0.545581647353625\n",
      "Actual  0  Predicted  0.25656143701259737\n",
      "Actual  0  Predicted  0.010415642517262054\n",
      "Actual  1  Predicted  0.3277519791553135\n",
      "Actual  1  Predicted  0.4598440332347029\n",
      "Actual  0  Predicted  0.11818952346076508\n",
      "Actual  0  Predicted  0.14641807836591397\n",
      "Actual  0  Predicted  0.001942905947529559\n",
      "Actual  1  Predicted  0.9085197720445136\n",
      "Actual  1  Predicted  0.5848977227133283\n",
      "Actual  0  Predicted  0.15355814857057293\n",
      "Actual  1  Predicted  0.991692267073728\n",
      "Actual  0  Predicted  0.023799250715251862\n",
      "Actual  0  Predicted  0.3513031969434025\n",
      "Actual  0  Predicted  0.005445644780785095\n",
      "Actual  0  Predicted  0.27955653147873233\n",
      "Actual  0  Predicted  0.005436212737641281\n",
      "Actual  0  Predicted  0.009477371056912948\n",
      "Actual  0  Predicted  0.7492275397079393\n",
      "Actual  1  Predicted  0.5460137463593836\n",
      "Actual  0  Predicted  0.007610053644724337\n",
      "Actual  1  Predicted  0.5708097787762623\n",
      "Actual  1  Predicted  0.3291236535731205\n",
      "Actual  1  Predicted  0.9717762000104687\n",
      "Actual  0  Predicted  0.28025917532060685\n",
      "Actual  0  Predicted  0.08258266550636593\n",
      "Actual  0  Predicted  0.038462617722813404\n",
      "Actual  0  Predicted  0.1706551015244081\n",
      "Actual  0  Predicted  0.17016228195795466\n",
      "Actual  0  Predicted  0.43131620437234264\n",
      "Actual  1  Predicted  0.9887687184791131\n",
      "Actual  1  Predicted  0.7821472511859493\n",
      "Actual  0  Predicted  0.07036922413531216\n",
      "Actual  1  Predicted  0.9069137251382035\n",
      "Actual  1  Predicted  0.9908371284033374\n",
      "Actual  1  Predicted  0.6024304420215566\n",
      "Actual  0  Predicted  0.11800798549603636\n",
      "Actual  0  Predicted  0.42382171805773655\n",
      "Actual  0  Predicted  0.13236234320862286\n",
      "Actual  0  Predicted  0.4242474143973866\n",
      "Actual  0  Predicted  0.17427900498771842\n",
      "Actual  1  Predicted  0.8971763537771192\n",
      "Actual  0  Predicted  0.02100578566199613\n",
      "Actual  0  Predicted  0.3447507724326485\n",
      "Actual  0  Predicted  0.0742425236807932\n",
      "Actual  0  Predicted  0.121418381152291\n",
      "Actual  1  Predicted  0.3921451780036645\n",
      "Actual  0  Predicted  0.9799443245828072\n",
      "Actual  0  Predicted  0.22341035014506044\n",
      "Actual  1  Predicted  0.9291705222186449\n",
      "Actual  0  Predicted  0.27447118344648197\n",
      "Actual  0  Predicted  0.32506936619585386\n",
      "Actual  1  Predicted  0.9731817216626026\n",
      "Actual  0  Predicted  0.3273680539366616\n",
      "Actual  0  Predicted  0.40239840199654564\n",
      "Actual  0  Predicted  0.01069907640387077\n",
      "Actual  1  Predicted  0.9534758849150741\n",
      "Actual  0  Predicted  0.14962015468333567\n",
      "Actual  1  Predicted  0.7682687532961257\n",
      "Actual  0  Predicted  0.1468543001730898\n",
      "Actual  0  Predicted  0.3435705010545329\n",
      "Actual  1  Predicted  0.36862285981402293\n"
     ]
    }
   ],
   "source": [
    "#print actual and predicted values in a table\n",
    "for x in range(len(y_pred)):\n",
    "    print('Actual ',y_test[x],' Predicted ',y_pred[x])\n",
    "    if y_pred[x]>=0.5:\n",
    "        y_pred[x]=1\n",
    "    else:\n",
    "        y_pred[x]=0"
   ]
  },
  {
   "cell_type": "code",
   "execution_count": 21,
   "metadata": {
    "_uuid": "a59807150900082ab876ef0200c6c7f8f93e098c",
    "colab": {
     "base_uri": "https://localhost:8080/"
    },
    "id": "sdZDj_iVcBJt",
    "outputId": "3d250272-0b20-46ae-a71d-af1477624a55"
   },
   "outputs": [
    {
     "name": "stdout",
     "output_type": "stream",
     "text": [
      "Accuracy: 88.33333333333333\n"
     ]
    }
   ],
   "source": [
    "# Calculating accuracy of prediction\n",
    "count = 0\n",
    "for x in range(len(y_pred)):\n",
    "    if(y_pred[x]==y_test[x]):\n",
    "        count=count+1\n",
    "print('Accuracy:',(count/(len(y_pred)))*100)"
   ]
  },
  {
   "cell_type": "markdown",
   "metadata": {
    "id": "x6nmajpzhAEn"
   },
   "source": [
    "#Using sklearn LogisticRegression model"
   ]
  },
  {
   "cell_type": "code",
   "execution_count": 22,
   "metadata": {
    "_kg_hide-output": true,
    "_uuid": "9aaade066015e04f20dd7eb1d37339be75ca3836",
    "colab": {
     "base_uri": "https://localhost:8080/"
    },
    "id": "iG-BK4i9cBKH",
    "outputId": "58b986d3-0327-4551-ca9a-a1371225cc06"
   },
   "outputs": [
    {
     "name": "stdout",
     "output_type": "stream",
     "text": [
      "[0 0 0 1 0 0 0 0 0 0 0 0 0 0 0 1 0 0 0 1 0 1 0 1 1 0 1 0 0 1 0 1 0 0 1 0 0\n",
      " 0 0 1 1 1 0 0 0 1 0 0 1 0 0 0 0 0 1 1 0 0 1 0 0 0 0 0 0 0 1 1 0 1 0 0 0 0\n",
      " 0 0 1 1 0 1 0 1 0 0 0 0 0 0 1 1 0 1 1 1 0 0 0 0 0 1 0 0 0 0 0 1 0 1 0 0 1\n",
      " 0 0 0 1 0 1 0 0 0]\n"
     ]
    }
   ],
   "source": [
    "# Fitting Logistic Regression to the Training set\n",
    "from sklearn.linear_model import LogisticRegression\n",
    "LR = LogisticRegression(random_state = 85)\n",
    "\n",
    "#Fit\n",
    "LR.fit(X_train, y_train)\n",
    "\n",
    "#predicting the test label with LR. Predict always takes X as input\n",
    "y_pred=LR.predict(X_test)\n",
    "print(y_pred)"
   ]
  },
  {
   "cell_type": "markdown",
   "metadata": {
    "id": "Y8sYVBu-iSW-"
   },
   "source": [
    "**Exercise:**\n",
    "\n",
    "Try logistic regression on BuyComputer dataset and set Random state=Your_RollNumber (last 3 digit of ID, incase if you don't have ID)"
   ]
  }
 ],
 "metadata": {
  "colab": {
   "collapsed_sections": [],
   "name": "0_logistic_regression.ipynb",
   "provenance": []
  },
  "kernelspec": {
   "display_name": "Python 3",
   "language": "python",
   "name": "python3"
  },
  "language_info": {
   "codemirror_mode": {
    "name": "ipython",
    "version": 3
   },
   "file_extension": ".py",
   "mimetype": "text/x-python",
   "name": "python",
   "nbconvert_exporter": "python",
   "pygments_lexer": "ipython3",
   "version": "3.6.9"
  }
 },
 "nbformat": 4,
 "nbformat_minor": 1
}
