{
 "cells": [
  {
   "cell_type": "code",
   "execution_count": 1,
   "source": [
    "#Importing libraries\r\n",
    "import numpy as np \r\n",
    "import pandas as pd \r\n",
    "import io\r\n",
    "import matplotlib.pyplot as plt"
   ],
   "outputs": [],
   "metadata": {
    "_cell_guid": "b1076dfc-b9ad-4769-8c92-a6c4dae69d19",
    "_uuid": "8f2839f25d086af736a60e9eeb907d3b93b6e0e5",
    "id": "hfV503AtcBDp"
   }
  },
  {
   "cell_type": "code",
   "execution_count": 25,
   "source": [
    "# reading the csv file, del 2 columns from the file, checking first few rows of the file\r\n",
    "from google.colab import files\r\n",
    "# uploaded = files.upload()\r\n",
    "\r\n",
    "data = pd.read_csv('BuyComputer.csv')\r\n",
    "\r\n",
    "data.drop(columns=['User ID',],axis=1,inplace=True)\r\n",
    "data.head()"
   ],
   "outputs": [
    {
     "output_type": "execute_result",
     "data": {
      "text/plain": [
       "   Age  EstimatedSalary  Purchased\n",
       "0   19            19000          0\n",
       "1   35            20000          0\n",
       "2   26            43000          0\n",
       "3   27            57000          0\n",
       "4   19            76000          0"
      ],
      "text/html": [
       "<div>\n",
       "<style scoped>\n",
       "    .dataframe tbody tr th:only-of-type {\n",
       "        vertical-align: middle;\n",
       "    }\n",
       "\n",
       "    .dataframe tbody tr th {\n",
       "        vertical-align: top;\n",
       "    }\n",
       "\n",
       "    .dataframe thead th {\n",
       "        text-align: right;\n",
       "    }\n",
       "</style>\n",
       "<table border=\"1\" class=\"dataframe\">\n",
       "  <thead>\n",
       "    <tr style=\"text-align: right;\">\n",
       "      <th></th>\n",
       "      <th>Age</th>\n",
       "      <th>EstimatedSalary</th>\n",
       "      <th>Purchased</th>\n",
       "    </tr>\n",
       "  </thead>\n",
       "  <tbody>\n",
       "    <tr>\n",
       "      <th>0</th>\n",
       "      <td>19</td>\n",
       "      <td>19000</td>\n",
       "      <td>0</td>\n",
       "    </tr>\n",
       "    <tr>\n",
       "      <th>1</th>\n",
       "      <td>35</td>\n",
       "      <td>20000</td>\n",
       "      <td>0</td>\n",
       "    </tr>\n",
       "    <tr>\n",
       "      <th>2</th>\n",
       "      <td>26</td>\n",
       "      <td>43000</td>\n",
       "      <td>0</td>\n",
       "    </tr>\n",
       "    <tr>\n",
       "      <th>3</th>\n",
       "      <td>27</td>\n",
       "      <td>57000</td>\n",
       "      <td>0</td>\n",
       "    </tr>\n",
       "    <tr>\n",
       "      <th>4</th>\n",
       "      <td>19</td>\n",
       "      <td>76000</td>\n",
       "      <td>0</td>\n",
       "    </tr>\n",
       "  </tbody>\n",
       "</table>\n",
       "</div>"
      ]
     },
     "metadata": {},
     "execution_count": 25
    }
   ],
   "metadata": {
    "_cell_guid": "79c7e3d0-c299-4dcb-8224-4455121ee9b0",
    "_uuid": "d629ff2d2480ee46fbb7e2d37f6b5fab8052498a",
    "colab": {
     "base_uri": "https://localhost:8080/",
     "height": 204
    },
    "id": "Y4rK9ffYcBEP",
    "outputId": "c03e12fe-cbb8-40c3-98a9-dd37ff5427df"
   }
  },
  {
   "cell_type": "code",
   "execution_count": 61,
   "source": [
    "#Declare label as last column in the source file\r\n",
    "Y = data.iloc[:,-1].values"
   ],
   "outputs": [],
   "metadata": {
    "_uuid": "4cb45e28344e7e245ab398e9f4f5272ef21d2129",
    "id": "jwuPgU6_cBE8"
   }
  },
  {
   "cell_type": "code",
   "execution_count": 62,
   "source": [
    "#Declaring X as all columns excluding last\r\n",
    "X = data.iloc[:,:-1].values\r\n"
   ],
   "outputs": [],
   "metadata": {
    "_uuid": "2e7a145fa49435ad9578ec2827f76a70cc99f2e1",
    "id": "2lhBrOp8cBFX"
   }
  },
  {
   "cell_type": "code",
   "execution_count": 63,
   "source": [
    "# Splitting data\r\n",
    "from sklearn.model_selection import train_test_split\r\n",
    "X_train, X_test, y_train, y_test = train_test_split(X, Y, test_size = 0.3, random_state = 99 )"
   ],
   "outputs": [],
   "metadata": {
    "_uuid": "dffb1f3e19e19964995ac827bf55108b5815ff67",
    "id": "t8nwbTn6cBFp"
   }
  },
  {
   "cell_type": "code",
   "execution_count": 64,
   "source": [
    "# Scaling data\r\n",
    "from sklearn.preprocessing import StandardScaler\r\n",
    "sc = StandardScaler()\r\n",
    "X_train = sc.fit_transform(X_train)\r\n",
    "X_test = sc.transform(X_test)"
   ],
   "outputs": [],
   "metadata": {
    "_uuid": "7d4ed14782e114ae3282f20d3754121398e6d232",
    "id": "U4bUiVVFcBGD"
   }
  },
  {
   "cell_type": "code",
   "execution_count": 65,
   "source": [
    "#Variabes to calculate sigmoid function\r\n",
    "y_pred = []\r\n",
    "len_x = len(X_train[0])\r\n",
    "w = []\r\n",
    "b = 0.2\r\n",
    "print(len_x)"
   ],
   "outputs": [
    {
     "output_type": "stream",
     "name": "stdout",
     "text": [
      "2\n"
     ]
    }
   ],
   "metadata": {
    "_uuid": "2ff7415e3e0e0673d59051cfe6154c63d3312a32",
    "colab": {
     "base_uri": "https://localhost:8080/"
    },
    "id": "W5yGgzqbcBGc",
    "outputId": "74c08b45-b5d7-4ced-d1b5-e6bedf339962"
   }
  },
  {
   "cell_type": "code",
   "execution_count": 66,
   "source": [
    "entries = len(X_train[:,0])\n",
    "entries"
   ],
   "outputs": [
    {
     "output_type": "execute_result",
     "data": {
      "text/plain": [
       "280"
      ]
     },
     "metadata": {},
     "execution_count": 66
    }
   ],
   "metadata": {
    "_uuid": "a228174207f4631be4f26a0cc05e379f3f58aa56",
    "colab": {
     "base_uri": "https://localhost:8080/"
    },
    "id": "ZbqwTM0bcBGr",
    "outputId": "52d7d653-5175-40c4-dbfe-a40d01f573de"
   }
  },
  {
   "cell_type": "code",
   "execution_count": 67,
   "source": [
    "for weights in range(len_x):\n",
    "    w.append(0)\n",
    "w"
   ],
   "outputs": [
    {
     "output_type": "execute_result",
     "data": {
      "text/plain": [
       "[0, 0]"
      ]
     },
     "metadata": {},
     "execution_count": 67
    }
   ],
   "metadata": {
    "_uuid": "5d4d6e47ee65c9c7404e60fcf8f05c11708546b3",
    "colab": {
     "base_uri": "https://localhost:8080/"
    },
    "id": "vEV7Nn73cBG7",
    "outputId": "e0b6e7f2-3be6-4f93-d953-77f3ac5994da"
   }
  },
  {
   "cell_type": "code",
   "execution_count": 68,
   "source": [
    "# Sigmoid function\n",
    "def sigmoid(z):\n",
    "  res = (1/(1+np.exp(-z)))\n",
    "  return res"
   ],
   "outputs": [],
   "metadata": {
    "_uuid": "18dbd2196d72527a82d30ab88ed2aa8d10bd01ce",
    "id": "_fAtpylNcBHM"
   }
  },
  {
   "cell_type": "code",
   "execution_count": 69,
   "source": [
    "def predict(inputs):\n",
    "    res = sigmoid(np.dot(w,inputs)+b)\n",
    "    return res"
   ],
   "outputs": [],
   "metadata": {
    "_uuid": "daa0f87fdbf98591cb9f51b8dc7157dc399ca827",
    "id": "kfchkScTcBHd"
   }
  },
  {
   "cell_type": "code",
   "execution_count": 70,
   "source": [
    "#Loss function\n",
    "def loss_func(y,a):\n",
    "    J = -(y*np.log(a) + (1-y)*np.log(1-a))\n",
    "    return J       "
   ],
   "outputs": [],
   "metadata": {
    "_uuid": "4126f842d072ccd40019cc283b767a014e2ee074",
    "id": "K2ryTgglcBHt"
   }
  },
  {
   "cell_type": "code",
   "execution_count": 71,
   "source": [
    "dw = []\n",
    "db = 0\n",
    "J = 0\n",
    "alpha = 0.01\n",
    "for x in range(len_x):\n",
    "    dw.append(0)"
   ],
   "outputs": [],
   "metadata": {
    "_uuid": "fc0ceb65c69f4ee0c3f28e050744229dc90c621b",
    "id": "1KW3eDpmcBIA"
   }
  },
  {
   "cell_type": "code",
   "execution_count": 72,
   "source": [
    "#Repeating the process 3000 times\n",
    "for iterations in range(3000):\n",
    "    for i in range(entries):\n",
    "        tmp = X_train[i]\n",
    "        a = predict(tmp)   \n",
    "        dz = a - y_train[i]\n",
    "        J += loss_func(y_train[i],a)\n",
    "        for j in range(len_x):\n",
    "            dw[j] = dw[j]+(tmp[j]*dz)\n",
    "        db += dz\n",
    "    J = J/entries\n",
    "    db = db/entries\n",
    "    for x in range(len_x):\n",
    "        dw[x]=dw[x]/entries\n",
    "    for x in range(len_x):\n",
    "        w[x] = w[x]-(alpha*dw[x])\n",
    "    b = b-(alpha*db)         \n",
    "    J=0"
   ],
   "outputs": [],
   "metadata": {
    "_uuid": "e4be38e9b500ae0c5a7134296a3055675c4fb2d8",
    "id": "ipqdFLP3cBIO"
   }
  },
  {
   "cell_type": "code",
   "execution_count": 73,
   "source": [
    "#Print weight\n",
    "print(w)"
   ],
   "outputs": [
    {
     "output_type": "stream",
     "name": "stdout",
     "text": [
      "[1.8809294369703171, 0.8354061892367326]\n"
     ]
    }
   ],
   "metadata": {
    "_uuid": "5479ccb6073ed1ea310ef7de01b2935fc3ec400e",
    "colab": {
     "base_uri": "https://localhost:8080/"
    },
    "id": "7Q585AdrcBIs",
    "outputId": "1fa2d2b1-7ae8-481d-f235-5d521655a3cb"
   }
  },
  {
   "cell_type": "code",
   "execution_count": 74,
   "source": [
    "#print bias\n",
    "print(b)"
   ],
   "outputs": [
    {
     "output_type": "stream",
     "name": "stdout",
     "text": [
      "-0.9221086078371689\n"
     ]
    }
   ],
   "metadata": {
    "_uuid": "a939c247b8a092f74c9843975612daa85c423621",
    "colab": {
     "base_uri": "https://localhost:8080/"
    },
    "id": "rEiF-bNHcBJB",
    "outputId": "fe21071d-39cc-4b3b-e005-44824aec4379"
   }
  },
  {
   "cell_type": "code",
   "execution_count": 75,
   "source": [
    "#predicting the label\n",
    "for x in range(len(y_test)):\n",
    "    y_pred.append(predict(X_test[x]))"
   ],
   "outputs": [],
   "metadata": {
    "_uuid": "b7ae24169a21c7ac8ea0787f4a38a0de3e07a6b5",
    "id": "MPt5nUcpcBJR"
   }
  },
  {
   "cell_type": "code",
   "execution_count": 76,
   "source": [
    "#print actual and predicted values in a table\r\n",
    "for x in range(len(y_pred)):\r\n",
    "    print('Actual ',y_test[x],' Predicted ',y_pred[x])\r\n",
    "    if y_pred[x]>=0.5:\r\n",
    "        y_pred[x]=1\r\n",
    "    else:\r\n",
    "        y_pred[x]=0"
   ],
   "outputs": [
    {
     "output_type": "stream",
     "name": "stdout",
     "text": [
      "Actual  0  Predicted  0.06782763159426673\n",
      "Actual  0  Predicted  0.17256474273110445\n",
      "Actual  1  Predicted  0.4408359778881064\n",
      "Actual  1  Predicted  0.8437890530536838\n",
      "Actual  0  Predicted  0.01048408824241523\n",
      "Actual  0  Predicted  0.09564402630900232\n",
      "Actual  0  Predicted  0.026731732067228002\n",
      "Actual  1  Predicted  0.446773815198898\n",
      "Actual  0  Predicted  0.13670268599374905\n",
      "Actual  0  Predicted  0.10983647427750019\n",
      "Actual  0  Predicted  0.03392475113955972\n",
      "Actual  0  Predicted  0.25128835902193025\n",
      "Actual  0  Predicted  0.28589710436254456\n",
      "Actual  0  Predicted  0.011010440572991097\n",
      "Actual  0  Predicted  0.16547904786381784\n",
      "Actual  0  Predicted  0.5579580723036863\n",
      "Actual  0  Predicted  0.06462118539859753\n",
      "Actual  0  Predicted  0.021953557361743817\n",
      "Actual  0  Predicted  0.027974089782114686\n",
      "Actual  1  Predicted  0.7089312151967133\n",
      "Actual  1  Predicted  0.5031572934197142\n",
      "Actual  1  Predicted  0.7914208063789631\n",
      "Actual  0  Predicted  0.019353411439176845\n",
      "Actual  1  Predicted  0.8967877825187295\n",
      "Actual  1  Predicted  0.9894503815575847\n",
      "Actual  0  Predicted  0.28570573275200223\n",
      "Actual  1  Predicted  0.5156487500642875\n",
      "Actual  0  Predicted  0.10258764012768522\n",
      "Actual  0  Predicted  0.40291025131901037\n",
      "Actual  1  Predicted  0.7020829919151836\n",
      "Actual  1  Predicted  0.35534138839693524\n",
      "Actual  1  Predicted  0.966667571810802\n",
      "Actual  0  Predicted  0.16554379380146855\n",
      "Actual  0  Predicted  0.23295056030017217\n",
      "Actual  1  Predicted  0.6021408428372161\n",
      "Actual  0  Predicted  0.018055159925577404\n",
      "Actual  0  Predicted  0.3228046402994075\n",
      "Actual  0  Predicted  0.27542771749463213\n",
      "Actual  1  Predicted  0.27046801708705753\n",
      "Actual  1  Predicted  0.5696740275756204\n",
      "Actual  0  Predicted  0.5217711579134273\n",
      "Actual  1  Predicted  0.978454189413181\n",
      "Actual  0  Predicted  0.20731039462297113\n",
      "Actual  0  Predicted  0.026005872234937506\n",
      "Actual  0  Predicted  0.04992938691090433\n",
      "Actual  1  Predicted  0.8302867028627127\n",
      "Actual  0  Predicted  0.03242693476702509\n",
      "Actual  1  Predicted  0.3902759663354913\n",
      "Actual  1  Predicted  0.8302206372666231\n",
      "Actual  0  Predicted  0.2608092541030619\n",
      "Actual  0  Predicted  0.2608092541030619\n",
      "Actual  0  Predicted  0.0180219460029879\n",
      "Actual  0  Predicted  0.125224350715502\n",
      "Actual  0  Predicted  0.06960697140269631\n",
      "Actual  1  Predicted  0.8797318469871398\n",
      "Actual  1  Predicted  0.9266903912207742\n",
      "Actual  0  Predicted  0.16895939902133653\n",
      "Actual  0  Predicted  0.013433368739328181\n",
      "Actual  1  Predicted  0.533644573910966\n",
      "Actual  0  Predicted  0.29064012995684424\n",
      "Actual  0  Predicted  0.02242461144418673\n",
      "Actual  1  Predicted  0.3498502733671795\n",
      "Actual  1  Predicted  0.4654883307868211\n",
      "Actual  0  Predicted  0.15869109692296965\n",
      "Actual  0  Predicted  0.18716710633385497\n",
      "Actual  0  Predicted  0.0057740154538577036\n",
      "Actual  1  Predicted  0.8652156531412857\n",
      "Actual  1  Predicted  0.5641131444489149\n",
      "Actual  0  Predicted  0.19511170263119404\n",
      "Actual  1  Predicted  0.9804549763830498\n",
      "Actual  0  Predicted  0.04434389577455884\n",
      "Actual  0  Predicted  0.3740133745805337\n",
      "Actual  0  Predicted  0.013427157525672768\n",
      "Actual  0  Predicted  0.3119757561533349\n",
      "Actual  0  Predicted  0.013433368739328181\n",
      "Actual  0  Predicted  0.0208576153330162\n",
      "Actual  0  Predicted  0.7081567644685443\n",
      "Actual  1  Predicted  0.5335279090308984\n",
      "Actual  0  Predicted  0.017601131305025452\n",
      "Actual  1  Predicted  0.5515532590068821\n",
      "Actual  1  Predicted  0.3570613912091743\n",
      "Actual  1  Predicted  0.9472150162965788\n",
      "Actual  0  Predicted  0.31177454957983763\n",
      "Actual  0  Predicted  0.11994943599145871\n",
      "Actual  0  Predicted  0.06464952640401751\n",
      "Actual  0  Predicted  0.21113514224685867\n",
      "Actual  0  Predicted  0.2112913400414229\n",
      "Actual  0  Predicted  0.4402582943373209\n",
      "Actual  1  Predicted  0.9750325213037179\n",
      "Actual  1  Predicted  0.7381561435602715\n",
      "Actual  0  Predicted  0.10473559648060385\n",
      "Actual  1  Predicted  0.8658158622799025\n",
      "Actual  1  Predicted  0.9790037568058478\n",
      "Actual  1  Predicted  0.5837065182594446\n",
      "Actual  0  Predicted  0.15875369221869315\n",
      "Actual  0  Predicted  0.43410873493059415\n",
      "Actual  0  Predicted  0.17223032685827755\n",
      "Actual  0  Predicted  0.4339935800742673\n",
      "Actual  0  Predicted  0.21556567528637607\n",
      "Actual  1  Predicted  0.8533605883857206\n",
      "Actual  0  Predicted  0.040349546323027854\n",
      "Actual  0  Predicted  0.3680714453325662\n",
      "Actual  0  Predicted  0.10960751756975688\n",
      "Actual  0  Predicted  0.16205640754539646\n",
      "Actual  1  Predicted  0.41029760106017443\n",
      "Actual  0  Predicted  0.9605284622593623\n",
      "Actual  0  Predicted  0.2606285465661718\n",
      "Actual  1  Predicted  0.892518994232977\n",
      "Actual  0  Predicted  0.3063375258993639\n",
      "Actual  0  Predicted  0.350597016863519\n",
      "Actual  1  Predicted  0.9497710474720102\n",
      "Actual  0  Predicted  0.3499569060481926\n",
      "Actual  0  Predicted  0.41556084970928003\n",
      "Actual  0  Predicted  0.023000150736615575\n",
      "Actual  1  Predicted  0.9214308545702175\n",
      "Actual  0  Predicted  0.19121659903864144\n",
      "Actual  1  Predicted  0.7227505370089833\n",
      "Actual  0  Predicted  0.18702451354368485\n",
      "Actual  0  Predicted  0.36839860973151256\n",
      "Actual  1  Predicted  0.3848999429381413\n"
     ]
    }
   ],
   "metadata": {
    "_uuid": "967ad1b72305ad792a5d50e4d8b8a07632f7b241",
    "colab": {
     "base_uri": "https://localhost:8080/"
    },
    "id": "79HPPz7jcBJg",
    "outputId": "df439b89-5453-4850-eb20-adbb246a4234",
    "scrolled": false
   }
  },
  {
   "cell_type": "code",
   "execution_count": 77,
   "source": [
    "# Calculating accuracy of prediction\r\n",
    "count = 0\r\n",
    "for x in range(len(y_pred)):\r\n",
    "    if(y_pred[x]==y_test[x]):\r\n",
    "        count=count+1\r\n",
    "print('Accuracy:',(count/(len(y_pred)))*100)"
   ],
   "outputs": [
    {
     "output_type": "stream",
     "name": "stdout",
     "text": [
      "Accuracy: 88.33333333333333\n"
     ]
    }
   ],
   "metadata": {
    "_uuid": "a59807150900082ab876ef0200c6c7f8f93e098c",
    "colab": {
     "base_uri": "https://localhost:8080/"
    },
    "id": "sdZDj_iVcBJt",
    "outputId": "58ff3d1d-6f75-4bc2-bb6d-a393053c8724"
   }
  },
  {
   "cell_type": "markdown",
   "source": [
    "#Using sklearn LogisticRegression model"
   ],
   "metadata": {
    "id": "x6nmajpzhAEn"
   }
  },
  {
   "cell_type": "code",
   "execution_count": 78,
   "source": [
    "# Fitting Logistic Regression to the Training set\r\n",
    "from sklearn.linear_model import LogisticRegression\r\n",
    "LR = LogisticRegression(random_state = 99)\r\n",
    "\r\n",
    "#Fit\r\n",
    "LR.fit(X_train, y_train)\r\n",
    "\r\n",
    "#predicting the test label with LR. Predict always takes X as input\r\n",
    "y_pred=LR.predict(X_test)\r\n",
    "print(y_pred)"
   ],
   "outputs": [
    {
     "output_type": "stream",
     "name": "stdout",
     "text": [
      "[0 0 0 1 0 0 0 0 0 0 0 0 0 0 0 1 0 0 0 1 0 1 0 1 1 0 1 0 0 1 0 1 0 0 1 0 0\n",
      " 0 0 1 1 1 0 0 0 1 0 0 1 0 0 0 0 0 1 1 0 0 1 0 0 0 0 0 0 0 1 1 0 1 0 0 0 0\n",
      " 0 0 1 1 0 1 0 1 0 0 0 0 0 0 1 1 0 1 1 1 0 0 0 0 0 1 0 0 0 0 0 1 0 1 0 0 1\n",
      " 0 0 0 1 0 1 0 0 0]\n"
     ]
    }
   ],
   "metadata": {
    "_kg_hide-output": true,
    "_uuid": "9aaade066015e04f20dd7eb1d37339be75ca3836",
    "colab": {
     "base_uri": "https://localhost:8080/"
    },
    "id": "iG-BK4i9cBKH",
    "outputId": "aed520ba-6f9c-4d02-8dbe-044530cd8ed3"
   }
  },
  {
   "cell_type": "code",
   "execution_count": 79,
   "source": [
    "count = 0\r\n",
    "for x in range(len(y_pred)):\r\n",
    "    if(y_pred[x]==y_test[x]):\r\n",
    "        count=count+1\r\n",
    "print('Accuracy:',(count/(len(y_pred)))*100)"
   ],
   "outputs": [
    {
     "output_type": "stream",
     "name": "stdout",
     "text": [
      "Accuracy: 87.5\n"
     ]
    }
   ],
   "metadata": {
    "colab": {
     "base_uri": "https://localhost:8080/"
    },
    "id": "OskWLpP1VwFR",
    "outputId": "d3680171-b92c-4a48-efad-7c7402f79f1e"
   }
  },
  {
   "cell_type": "markdown",
   "source": [
    "**Exercise:**\r\n",
    "\r\n",
    "Try logistic regression on BuyComputer dataset and set Random state=Your_RollNumber (last 3 digit of ID, incase if you don't have ID)"
   ],
   "metadata": {
    "id": "Y8sYVBu-iSW-"
   }
  }
 ],
 "metadata": {
  "colab": {
   "collapsed_sections": [],
   "name": "0_logistic_regression.ipynb",
   "provenance": []
  },
  "kernelspec": {
   "display_name": "Python 3",
   "language": "python",
   "name": "python3"
  },
  "language_info": {
   "codemirror_mode": {
    "name": "ipython",
    "version": 3
   },
   "file_extension": ".py",
   "mimetype": "text/x-python",
   "name": "python",
   "nbconvert_exporter": "python",
   "pygments_lexer": "ipython3",
   "version": "3.6.9"
  }
 },
 "nbformat": 4,
 "nbformat_minor": 1
}