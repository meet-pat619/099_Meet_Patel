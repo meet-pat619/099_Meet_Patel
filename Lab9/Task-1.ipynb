{
 "cells": [
  {
   "cell_type": "code",
   "execution_count": 1,
   "source": [
    "import sys, os\r\n",
    "import numpy as np\r\n",
    "import matplotlib.pyplot as plt\r\n",
    "from sklearn import svm, metrics\r\n",
    "from sklearn.model_selection import train_test_split\r\n",
    "from sklearn.datasets import load_digits"
   ],
   "outputs": [],
   "metadata": {}
  },
  {
   "cell_type": "code",
   "execution_count": 2,
   "source": [
    "digits = load_digits()\r\n",
    "digits.data.shape"
   ],
   "outputs": [
    {
     "output_type": "execute_result",
     "data": {
      "text/plain": [
       "(1797, 64)"
      ]
     },
     "metadata": {},
     "execution_count": 2
    }
   ],
   "metadata": {}
  },
  {
   "cell_type": "code",
   "execution_count": 3,
   "source": [
    "print(digits.target)"
   ],
   "outputs": [
    {
     "output_type": "stream",
     "name": "stdout",
     "text": [
      "[0 1 2 ... 8 9 8]\n"
     ]
    }
   ],
   "metadata": {}
  },
  {
   "cell_type": "code",
   "execution_count": 4,
   "source": [
    "X_train, X_test, y_train, y_test = train_test_split(digits.data, digits.target, train_size = 0.2 ,random_state = 99)"
   ],
   "outputs": [],
   "metadata": {}
  },
  {
   "cell_type": "code",
   "execution_count": 7,
   "source": [
    "#Linear SVM Classifier\r\n",
    "lsc = svm.SVC(kernel='linear')\r\n",
    "lsc.fit(X_train, y_train)\r\n",
    "lin_y_pred = lsc.predict(X_test)\r\n",
    "print(\"Accuracy :\", metrics.accuracy_score(y_test, lin_y_pred))"
   ],
   "outputs": [
    {
     "output_type": "stream",
     "name": "stdout",
     "text": [
      "Accuracy : 0.9575799721835884\n"
     ]
    }
   ],
   "metadata": {}
  },
  {
   "cell_type": "code",
   "execution_count": 8,
   "source": [
    "#Polynominal SVM Classifier\r\n",
    "\r\n",
    "psc = svm.SVC(kernel='poly')\r\n",
    "psc.fit(X_train, y_train)\r\n",
    "poly_y_pred = psc.predict(X_test)\r\n",
    "print(\"Accuracy :\", metrics.accuracy_score(y_test, poly_y_pred))"
   ],
   "outputs": [
    {
     "output_type": "stream",
     "name": "stdout",
     "text": [
      "Accuracy : 0.9596662030598053\n"
     ]
    }
   ],
   "metadata": {}
  },
  {
   "cell_type": "code",
   "execution_count": 9,
   "source": [
    "rbfsc = svm.SVC(kernel='rbf')\r\n",
    "rbfsc.fit(X_train, y_train)\r\n",
    "rbf_y_pred = rbfsc.predict(X_test)\r\n",
    "print(\"Accuracy :\", metrics.accuracy_score(y_test, rbf_y_pred))"
   ],
   "outputs": [
    {
     "output_type": "stream",
     "name": "stdout",
     "text": [
      "Accuracy : 0.9541029207232267\n"
     ]
    }
   ],
   "metadata": {}
  },
  {
   "cell_type": "code",
   "execution_count": null,
   "source": [],
   "outputs": [],
   "metadata": {}
  }
 ],
 "metadata": {
  "kernelspec": {
   "display_name": "Python 3 (ipykernel)",
   "language": "python",
   "name": "python3"
  },
  "language_info": {
   "codemirror_mode": {
    "name": "ipython",
    "version": 3
   },
   "file_extension": ".py",
   "mimetype": "text/x-python",
   "name": "python",
   "nbconvert_exporter": "python",
   "pygments_lexer": "ipython3",
   "version": "3.9.7"
  }
 },
 "nbformat": 4,
 "nbformat_minor": 5
}